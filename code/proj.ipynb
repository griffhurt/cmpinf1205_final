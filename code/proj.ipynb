{
 "cells": [
  {
   "attachments": {},
   "cell_type": "markdown",
   "metadata": {},
   "source": [
    "# CMPINF 1205 Final Project\n",
    "## Measuring Readability and Obfuscation of Privacy Policies in the OPP-115 Dataset\n",
    "By Griffin Hurt\n",
    "\n",
    "----\n",
    "\n",
    "### Introduction\n",
    "TODO"
   ]
  },
  {
   "attachments": {},
   "cell_type": "markdown",
   "metadata": {},
   "source": [
    "### Loading in the Data\n",
    "The OPP-115 dataset is provided in several different formats, but the easiest to parse in Python will most likely be the sanitized HTML versions. BeautifulSoup is a Python library built for parsing HTML, and we will use it here to extract text from the policies. There are some extraneous characters in the dataset (specifically \"|||\") and sequences of multiple spaces, so we have to remove those before adding the policy to the dataframe."
   ]
  },
  {
   "cell_type": "code",
   "execution_count": 1,
   "metadata": {},
   "outputs": [
    {
     "data": {
      "text/html": [
       "<div>\n",
       "<style scoped>\n",
       "    .dataframe tbody tr th:only-of-type {\n",
       "        vertical-align: middle;\n",
       "    }\n",
       "\n",
       "    .dataframe tbody tr th {\n",
       "        vertical-align: top;\n",
       "    }\n",
       "\n",
       "    .dataframe thead th {\n",
       "        text-align: right;\n",
       "    }\n",
       "</style>\n",
       "<table border=\"1\" class=\"dataframe\">\n",
       "  <thead>\n",
       "    <tr style=\"text-align: right;\">\n",
       "      <th></th>\n",
       "      <th>Website</th>\n",
       "      <th>Policy Content</th>\n",
       "    </tr>\n",
       "  </thead>\n",
       "  <tbody>\n",
       "    <tr>\n",
       "      <th>0</th>\n",
       "      <td>latinpost.com</td>\n",
       "      <td>Privacy Policy Last Modified: March 25, 2013 T...</td>\n",
       "    </tr>\n",
       "    <tr>\n",
       "      <th>1</th>\n",
       "      <td>google.com</td>\n",
       "      <td>Welcome to the Google Privacy Policy When you...</td>\n",
       "    </tr>\n",
       "    <tr>\n",
       "      <th>2</th>\n",
       "      <td>austincc.edu</td>\n",
       "      <td>Web Privacy Statement Austin Community Colleg...</td>\n",
       "    </tr>\n",
       "    <tr>\n",
       "      <th>3</th>\n",
       "      <td>pbs.org</td>\n",
       "      <td>Privacy Policy PBS is committed to protecting ...</td>\n",
       "    </tr>\n",
       "    <tr>\n",
       "      <th>4</th>\n",
       "      <td>usa.gov</td>\n",
       "      <td>Privacy, Security, and Accessibility Policies ...</td>\n",
       "    </tr>\n",
       "  </tbody>\n",
       "</table>\n",
       "</div>"
      ],
      "text/plain": [
       "         Website                                     Policy Content\n",
       "0  latinpost.com  Privacy Policy Last Modified: March 25, 2013 T...\n",
       "1     google.com   Welcome to the Google Privacy Policy When you...\n",
       "2   austincc.edu   Web Privacy Statement Austin Community Colleg...\n",
       "3        pbs.org  Privacy Policy PBS is committed to protecting ...\n",
       "4        usa.gov  Privacy, Security, and Accessibility Policies ..."
      ]
     },
     "execution_count": 1,
     "metadata": {},
     "output_type": "execute_result"
    }
   ],
   "source": [
    "from bs4 import BeautifulSoup\n",
    "import pandas as pd\n",
    "import os\n",
    "import re\n",
    "\n",
    "# Pandas dataframe with privacy policy data\n",
    "policies = pd.DataFrame(columns=[\"Website\", \"Policy Content\"])\n",
    "\n",
    "# For each policy file...\n",
    "for policy_file in os.listdir(\"data/opp_115\"):\n",
    "    # Open it\n",
    "    with open(\"data/opp_115/\" + policy_file, \"r\") as f:\n",
    "        # Parse it\n",
    "        soup = BeautifulSoup(f.read(), \"html.parser\")\n",
    "    # Get the text\n",
    "    html_text = soup.get_text()\n",
    "    # Remove the bars\n",
    "    html_text = html_text.replace(\"|||\", \"\")\n",
    "    # Remove multiple spaces\n",
    "    html_text = re.sub(r\"\\s+\", \" \", html_text)\n",
    "    # Get the name of the website\n",
    "    website_name = policy_file.split(\"_\")[1][:-5]\n",
    "    # Add it to the dataframe\n",
    "    policies.loc[len(policies.index)] = [website_name, html_text] \n",
    "\n",
    "# Display the first 5 elements of the dataframe\n",
    "policies.head()"
   ]
  },
  {
   "attachments": {},
   "cell_type": "markdown",
   "metadata": {},
   "source": [
    "We now have the websites' privacy policies loaded into the \"Policy Content\" column and are ready to begin calculating metrics about their content."
   ]
  },
  {
   "attachments": {},
   "cell_type": "markdown",
   "metadata": {},
   "source": [
    "### Flesch Reading Ease\n",
    "The first metric we will be analyzing the dataset with is Flesch Reading Ease, which is a number between 0 and 100 that indicates what age a person must be to understand a text.\n",
    "\n",
    "The formula for Flesch Reading Ease is:\n",
    "$$FRE(w, s, y) = 206.835 - 1.015(\\frac{w}{s}) - 84.6(\\frac{y}{w})$$\n",
    "Where $w$ represents the number of words in the text, $s$ represents the number of sentences, and $y$ represents the number of syllables.\n",
    "\n",
    "The Flesch Reading Ease score can then be associated with a grade level understanding:\n",
    "<table>\n",
    "    <tr><th>Score</th><th>School Level</th></tr>\n",
    "    <tr><td>100 - 90</td><td>5th Grade</td></tr>\n",
    "    <tr><td>90 - 80</td><td>6th Grade</td></tr>\n",
    "    <tr><td>80 - 70</td><td>7th Grade</td></tr>\n",
    "    <tr><td>70 - 60</td><td>8th and 9th Grade</td></tr>\n",
    "    <tr><td>60 - 50</td><td>10th to 12th Grade (High School)</td></tr>\n",
    "    <tr><td>50 - 40</td><td>College</td></tr>\n",
    "    <tr><td>30 - 0</td><td>College Graduate</td></tr>\n",
    "</table>\n",
    "\n",
    "[[Source]](https://web.archive.org/web/20160712094308/http://www.mang.canterbury.ac.nz/writing_guide/writing/flesch.shtml)\n",
    "\n",
    "Let's calculate the Flesch Reading Ease for each policy in the dataset."
   ]
  },
  {
   "cell_type": "code",
   "execution_count": 2,
   "metadata": {},
   "outputs": [
    {
     "data": {
      "text/html": [
       "<div>\n",
       "<style scoped>\n",
       "    .dataframe tbody tr th:only-of-type {\n",
       "        vertical-align: middle;\n",
       "    }\n",
       "\n",
       "    .dataframe tbody tr th {\n",
       "        vertical-align: top;\n",
       "    }\n",
       "\n",
       "    .dataframe thead th {\n",
       "        text-align: right;\n",
       "    }\n",
       "</style>\n",
       "<table border=\"1\" class=\"dataframe\">\n",
       "  <thead>\n",
       "    <tr style=\"text-align: right;\">\n",
       "      <th></th>\n",
       "      <th>Website</th>\n",
       "      <th>Policy Content</th>\n",
       "      <th>Flesch Reading Ease</th>\n",
       "    </tr>\n",
       "  </thead>\n",
       "  <tbody>\n",
       "    <tr>\n",
       "      <th>0</th>\n",
       "      <td>latinpost.com</td>\n",
       "      <td>Privacy Policy Last Modified: March 25, 2013 T...</td>\n",
       "      <td>35.964811</td>\n",
       "    </tr>\n",
       "    <tr>\n",
       "      <th>1</th>\n",
       "      <td>google.com</td>\n",
       "      <td>Welcome to the Google Privacy Policy When you...</td>\n",
       "      <td>38.059614</td>\n",
       "    </tr>\n",
       "    <tr>\n",
       "      <th>2</th>\n",
       "      <td>austincc.edu</td>\n",
       "      <td>Web Privacy Statement Austin Community Colleg...</td>\n",
       "      <td>33.119489</td>\n",
       "    </tr>\n",
       "    <tr>\n",
       "      <th>3</th>\n",
       "      <td>pbs.org</td>\n",
       "      <td>Privacy Policy PBS is committed to protecting ...</td>\n",
       "      <td>43.740964</td>\n",
       "    </tr>\n",
       "    <tr>\n",
       "      <th>4</th>\n",
       "      <td>usa.gov</td>\n",
       "      <td>Privacy, Security, and Accessibility Policies ...</td>\n",
       "      <td>40.874814</td>\n",
       "    </tr>\n",
       "  </tbody>\n",
       "</table>\n",
       "</div>"
      ],
      "text/plain": [
       "         Website                                     Policy Content  \\\n",
       "0  latinpost.com  Privacy Policy Last Modified: March 25, 2013 T...   \n",
       "1     google.com   Welcome to the Google Privacy Policy When you...   \n",
       "2   austincc.edu   Web Privacy Statement Austin Community Colleg...   \n",
       "3        pbs.org  Privacy Policy PBS is committed to protecting ...   \n",
       "4        usa.gov  Privacy, Security, and Accessibility Policies ...   \n",
       "\n",
       "   Flesch Reading Ease  \n",
       "0            35.964811  \n",
       "1            38.059614  \n",
       "2            33.119489  \n",
       "3            43.740964  \n",
       "4            40.874814  "
      ]
     },
     "execution_count": 2,
     "metadata": {},
     "output_type": "execute_result"
    }
   ],
   "source": [
    "import pronouncing\n",
    "\n",
    "for index, row in policies.iterrows():\n",
    "    # Get the sentences\n",
    "    sentences_found = re.findall(r\"(([A-Z]\\w+) [^\\.]+\\.)+\", row[\"Policy Content\"])\n",
    "    sentences = []\n",
    "    for sentence in sentences_found:\n",
    "        sentences.append(sentence[0])\n",
    "    # Count the number of sentences\n",
    "    num_sentences = len(sentences)\n",
    "    # Get the number of syllables / words\n",
    "    num_syllables = 0\n",
    "    num_words = 0\n",
    "    for sentence in sentences:\n",
    "        words = sentence.split(\" \")\n",
    "        for word in words:\n",
    "            phones = pronouncing.phones_for_word(word)\n",
    "            # Check to make sure it's a word\n",
    "            if len(phones) > 0:\n",
    "                # Add words and syllables\n",
    "                num_words += 1\n",
    "                num_syllables += pronouncing.syllable_count(phones[0])\n",
    "    # Calculate Flesch Reading Ease\n",
    "    fre = 206.835 - 1.015*(num_words / num_sentences) - 84.6*(num_syllables / num_words)\n",
    "    # Add it to the dataframe\n",
    "    policies.at[index, \"Flesch Reading Ease\"] = fre\n",
    "\n",
    "# Display the dataframe\n",
    "policies.head()"
   ]
  },
  {
   "attachments": {},
   "cell_type": "markdown",
   "metadata": {},
   "source": [
    "We have now calculated the Flesch Reading Ease for every privacy policy. Let's calculate some basic statistics (mean, median, standard deviation) on the metric."
   ]
  },
  {
   "cell_type": "code",
   "execution_count": 3,
   "metadata": {},
   "outputs": [
    {
     "name": "stdout",
     "output_type": "stream",
     "text": [
      "Mean: 41.57538889132636\n",
      "Median: 42.004027381054584\n",
      "Standard Deviation: 7.239166693762004\n"
     ]
    }
   ],
   "source": [
    "mean = policies[\"Flesch Reading Ease\"].mean()\n",
    "median = policies[\"Flesch Reading Ease\"].median()\n",
    "std_dev = policies[\"Flesch Reading Ease\"].std()\n",
    "\n",
    "print(\"Mean:\", mean)\n",
    "print(\"Median:\", median)\n",
    "print(\"Standard Deviation:\", std_dev)"
   ]
  },
  {
   "attachments": {},
   "cell_type": "markdown",
   "metadata": {},
   "source": [
    "We see that the average Flesch Reading Index for the privacy policies is around 42. Let's also plot this data on a histogram to see the distribution of scores."
   ]
  },
  {
   "cell_type": "code",
   "execution_count": 4,
   "metadata": {},
   "outputs": [
    {
     "data": {
      "text/plain": [
       "array([[<matplotlib.axes._subplots.AxesSubplot object at 0x131ab3760>]],\n",
       "      dtype=object)"
      ]
     },
     "execution_count": 4,
     "metadata": {},
     "output_type": "execute_result"
    },
    {
     "data": {
      "image/png": "[encoded data removed]",
      "text/plain": [
       "<Figure size 640x480 with 1 Axes>"
      ]
     },
     "metadata": {},
     "output_type": "display_data"
    }
   ],
   "source": [
    "policies.hist(\"Flesch Reading Ease\", bins=30)"
   ]
  },
  {
   "attachments": {},
   "cell_type": "markdown",
   "metadata": {},
   "source": [
    "Remember that COPPA allows the collection of data from children as young as 13 (8th grade), so to understand a policy, its score should be in the 60s or 70s. Let's see how many policies fit that requirement."
   ]
  },
  {
   "cell_type": "code",
   "execution_count": 5,
   "metadata": {},
   "outputs": [
    {
     "data": {
      "text/html": [
       "<div>\n",
       "<style scoped>\n",
       "    .dataframe tbody tr th:only-of-type {\n",
       "        vertical-align: middle;\n",
       "    }\n",
       "\n",
       "    .dataframe tbody tr th {\n",
       "        vertical-align: top;\n",
       "    }\n",
       "\n",
       "    .dataframe thead th {\n",
       "        text-align: right;\n",
       "    }\n",
       "</style>\n",
       "<table border=\"1\" class=\"dataframe\">\n",
       "  <thead>\n",
       "    <tr style=\"text-align: right;\">\n",
       "      <th></th>\n",
       "      <th>Website</th>\n",
       "      <th>Policy Content</th>\n",
       "      <th>Flesch Reading Ease</th>\n",
       "    </tr>\n",
       "  </thead>\n",
       "  <tbody>\n",
       "    <tr>\n",
       "      <th>10</th>\n",
       "      <td>ticketmaster.com</td>\n",
       "      <td>Live Nation Entertainment Privacy Policy - You...</td>\n",
       "      <td>66.389168</td>\n",
       "    </tr>\n",
       "    <tr>\n",
       "      <th>13</th>\n",
       "      <td>dogbreedinfo.com</td>\n",
       "      <td>Privacy Policy Dog Breed Info Center does not ...</td>\n",
       "      <td>61.862595</td>\n",
       "    </tr>\n",
       "    <tr>\n",
       "      <th>86</th>\n",
       "      <td>sci-news.com</td>\n",
       "      <td>Privacy Policy Sci-News.com is committed to pr...</td>\n",
       "      <td>65.528684</td>\n",
       "    </tr>\n",
       "  </tbody>\n",
       "</table>\n",
       "</div>"
      ],
      "text/plain": [
       "             Website                                     Policy Content  \\\n",
       "10  ticketmaster.com  Live Nation Entertainment Privacy Policy - You...   \n",
       "13  dogbreedinfo.com  Privacy Policy Dog Breed Info Center does not ...   \n",
       "86      sci-news.com  Privacy Policy Sci-News.com is committed to pr...   \n",
       "\n",
       "    Flesch Reading Ease  \n",
       "10            66.389168  \n",
       "13            61.862595  \n",
       "86            65.528684  "
      ]
     },
     "execution_count": 5,
     "metadata": {},
     "output_type": "execute_result"
    }
   ],
   "source": [
    "coppa_policies = policies[policies[\"Flesch Reading Ease\"] > 60]\n",
    "coppa_policies"
   ]
  },
  {
   "attachments": {},
   "cell_type": "markdown",
   "metadata": {},
   "source": [
    "There are only three websites with policies in the 60s: ticketmaster.com, dogbreedinfo.com, and sci-news.com. That is a miniscule 2.6% of the data sample. There are no policies in the 70s or above.\n",
    "\n",
    "Let's take a look at the worst policies in the dataset for readability."
   ]
  },
  {
   "cell_type": "code",
   "execution_count": 6,
   "metadata": {},
   "outputs": [
    {
     "data": {
      "text/html": [
       "<div>\n",
       "<style scoped>\n",
       "    .dataframe tbody tr th:only-of-type {\n",
       "        vertical-align: middle;\n",
       "    }\n",
       "\n",
       "    .dataframe tbody tr th {\n",
       "        vertical-align: top;\n",
       "    }\n",
       "\n",
       "    .dataframe thead th {\n",
       "        text-align: right;\n",
       "    }\n",
       "</style>\n",
       "<table border=\"1\" class=\"dataframe\">\n",
       "  <thead>\n",
       "    <tr style=\"text-align: right;\">\n",
       "      <th></th>\n",
       "      <th>Website</th>\n",
       "      <th>Policy Content</th>\n",
       "      <th>Flesch Reading Ease</th>\n",
       "    </tr>\n",
       "  </thead>\n",
       "  <tbody>\n",
       "    <tr>\n",
       "      <th>87</th>\n",
       "      <td>abcnews.com</td>\n",
       "      <td>Privacy Policy The Walt Disney Company has a ...</td>\n",
       "      <td>23.248971</td>\n",
       "    </tr>\n",
       "    <tr>\n",
       "      <th>42</th>\n",
       "      <td>playstation.com</td>\n",
       "      <td>Privacy Policy Last Revised: April, 2011 Sony...</td>\n",
       "      <td>26.417748</td>\n",
       "    </tr>\n",
       "    <tr>\n",
       "      <th>74</th>\n",
       "      <td>thehill.com</td>\n",
       "      <td>THE HILL'S PRIVACY POLICY This Privacy Policy...</td>\n",
       "      <td>27.381359</td>\n",
       "    </tr>\n",
       "    <tr>\n",
       "      <th>23</th>\n",
       "      <td>neworleansonline.com</td>\n",
       "      <td>Privacy Statement Last Updated on May 22, 2015...</td>\n",
       "      <td>27.436089</td>\n",
       "    </tr>\n",
       "    <tr>\n",
       "      <th>8</th>\n",
       "      <td>dcccd.edu</td>\n",
       "      <td>Privacy and Security Commitment Our Promise t...</td>\n",
       "      <td>28.502535</td>\n",
       "    </tr>\n",
       "  </tbody>\n",
       "</table>\n",
       "</div>"
      ],
      "text/plain": [
       "                 Website                                     Policy Content  \\\n",
       "87           abcnews.com   Privacy Policy The Walt Disney Company has a ...   \n",
       "42       playstation.com   Privacy Policy Last Revised: April, 2011 Sony...   \n",
       "74           thehill.com   THE HILL'S PRIVACY POLICY This Privacy Policy...   \n",
       "23  neworleansonline.com  Privacy Statement Last Updated on May 22, 2015...   \n",
       "8              dcccd.edu   Privacy and Security Commitment Our Promise t...   \n",
       "\n",
       "    Flesch Reading Ease  \n",
       "87            23.248971  \n",
       "42            26.417748  \n",
       "74            27.381359  \n",
       "23            27.436089  \n",
       "8             28.502535  "
      ]
     },
     "execution_count": 6,
     "metadata": {},
     "output_type": "execute_result"
    }
   ],
   "source": [
    "policies_sorted = policies.sort_values(\"Flesch Reading Ease\")\n",
    "policies_sorted.head()"
   ]
  },
  {
   "attachments": {},
   "cell_type": "markdown",
   "metadata": {},
   "source": [
    "We see that abcnews.com, playstation.com, and thehill.com are the three worst privacy policies for readability. All of these policies fall in the \"college graduate\" section of the Flesch Reading Ease.\n",
    "\n",
    "Based on the Flesch Reading Ease metric, most privacy policies are not able to be read by 13 year olds, despite the law allowing these children to give away their data to corporations."
   ]
  },
  {
   "attachments": {},
   "cell_type": "markdown",
   "metadata": {},
   "source": [
    "### Time to Read\n",
    "\n",
    "Another metric commonly used to measure the \"readability\" of a text is Time to Read. Time to Read is the amount of time it takes for a person to read and understand a section of text.\n",
    "\n",
    "On average, a person reads 200 words per minute, so to calculate Time to Read, we simply divide the number of words by 200:\n",
    "$$TTR(w) = \\frac{w}{200}$$\n",
    "Where $w$ represents the number of words.\n",
    "\n",
    "Let's calculate Time to Read in minutes for each of the privacy policies."
   ]
  },
  {
   "cell_type": "code",
   "execution_count": 7,
   "metadata": {},
   "outputs": [
    {
     "data": {
      "text/html": [
       "<div>\n",
       "<style scoped>\n",
       "    .dataframe tbody tr th:only-of-type {\n",
       "        vertical-align: middle;\n",
       "    }\n",
       "\n",
       "    .dataframe tbody tr th {\n",
       "        vertical-align: top;\n",
       "    }\n",
       "\n",
       "    .dataframe thead th {\n",
       "        text-align: right;\n",
       "    }\n",
       "</style>\n",
       "<table border=\"1\" class=\"dataframe\">\n",
       "  <thead>\n",
       "    <tr style=\"text-align: right;\">\n",
       "      <th></th>\n",
       "      <th>Website</th>\n",
       "      <th>Policy Content</th>\n",
       "      <th>Flesch Reading Ease</th>\n",
       "      <th>Time to Read</th>\n",
       "    </tr>\n",
       "  </thead>\n",
       "  <tbody>\n",
       "    <tr>\n",
       "      <th>0</th>\n",
       "      <td>latinpost.com</td>\n",
       "      <td>Privacy Policy Last Modified: March 25, 2013 T...</td>\n",
       "      <td>35.964811</td>\n",
       "      <td>34.465</td>\n",
       "    </tr>\n",
       "    <tr>\n",
       "      <th>1</th>\n",
       "      <td>google.com</td>\n",
       "      <td>Welcome to the Google Privacy Policy When you...</td>\n",
       "      <td>38.059614</td>\n",
       "      <td>12.490</td>\n",
       "    </tr>\n",
       "    <tr>\n",
       "      <th>2</th>\n",
       "      <td>austincc.edu</td>\n",
       "      <td>Web Privacy Statement Austin Community Colleg...</td>\n",
       "      <td>33.119489</td>\n",
       "      <td>4.140</td>\n",
       "    </tr>\n",
       "    <tr>\n",
       "      <th>3</th>\n",
       "      <td>pbs.org</td>\n",
       "      <td>Privacy Policy PBS is committed to protecting ...</td>\n",
       "      <td>43.740964</td>\n",
       "      <td>9.765</td>\n",
       "    </tr>\n",
       "    <tr>\n",
       "      <th>4</th>\n",
       "      <td>usa.gov</td>\n",
       "      <td>Privacy, Security, and Accessibility Policies ...</td>\n",
       "      <td>40.874814</td>\n",
       "      <td>4.375</td>\n",
       "    </tr>\n",
       "  </tbody>\n",
       "</table>\n",
       "</div>"
      ],
      "text/plain": [
       "         Website                                     Policy Content  \\\n",
       "0  latinpost.com  Privacy Policy Last Modified: March 25, 2013 T...   \n",
       "1     google.com   Welcome to the Google Privacy Policy When you...   \n",
       "2   austincc.edu   Web Privacy Statement Austin Community Colleg...   \n",
       "3        pbs.org  Privacy Policy PBS is committed to protecting ...   \n",
       "4        usa.gov  Privacy, Security, and Accessibility Policies ...   \n",
       "\n",
       "   Flesch Reading Ease  Time to Read  \n",
       "0            35.964811        34.465  \n",
       "1            38.059614        12.490  \n",
       "2            33.119489         4.140  \n",
       "3            43.740964         9.765  \n",
       "4            40.874814         4.375  "
      ]
     },
     "execution_count": 7,
     "metadata": {},
     "output_type": "execute_result"
    }
   ],
   "source": [
    "for index, row in policies.iterrows():\n",
    "    # Get each sentence in the policy\n",
    "    sentences_found = re.findall(r\"(([A-Z]\\w+) [^\\.]+\\.)+\", row[\"Policy Content\"])\n",
    "    sentences = []\n",
    "    for sentence in sentences_found:\n",
    "        sentences.append(sentence[0])\n",
    "    # Get the number of words in each sentence\n",
    "    num_words = 0\n",
    "    for sentence in sentences:\n",
    "        words = sentence.split(\" \")\n",
    "        num_words += len(words)\n",
    "    # Calculate the time to read\n",
    "    policies.at[index, \"Time to Read\"] = num_words / 200\n",
    "        \n",
    "policies.head()"
   ]
  },
  {
   "attachments": {},
   "cell_type": "markdown",
   "metadata": {},
   "source": [
    "Next, let's calculate basic statistics for time to read."
   ]
  },
  {
   "cell_type": "code",
   "execution_count": 8,
   "metadata": {},
   "outputs": [
    {
     "name": "stdout",
     "output_type": "stream",
     "text": [
      "Mean: 10.74695652173913 minutes\n",
      "Median: 10.61 minutes\n",
      "Standard Deviation: 7.36671841577994 minutes\n"
     ]
    }
   ],
   "source": [
    "mean = policies[\"Time to Read\"].mean()\n",
    "median = policies[\"Time to Read\"].median()\n",
    "std_dev = policies[\"Time to Read\"].std()\n",
    "\n",
    "print(\"Mean:\", mean, \"minutes\")\n",
    "print(\"Median:\", median, \"minutes\")\n",
    "print(\"Standard Deviation:\", std_dev, \"minutes\")"
   ]
  },
  {
   "attachments": {},
   "cell_type": "markdown",
   "metadata": {},
   "source": [
    "We see that the average privacy policy requires 10.7 minutes, or 10 minutes and 45 seconds, to read and comprehend. This is much longer than the average person spends signing up for a new service. Let's once again plot the data on a histogram to visualize the distribution of the dataset."
   ]
  },
  {
   "cell_type": "code",
   "execution_count": 9,
   "metadata": {},
   "outputs": [
    {
     "data": {
      "text/plain": [
       "array([[<matplotlib.axes._subplots.AxesSubplot object at 0x131e18b80>]],\n",
       "      dtype=object)"
      ]
     },
     "execution_count": 9,
     "metadata": {},
     "output_type": "execute_result"
    },
    {
     "data": {
      "image/png": "[encoded data removed]",
      "text/plain": [
       "<Figure size 640x480 with 1 Axes>"
      ]
     },
     "metadata": {},
     "output_type": "display_data"
    }
   ],
   "source": [
    "policies.hist(\"Time to Read\", bins=30)"
   ]
  },
  {
   "attachments": {},
   "cell_type": "markdown",
   "metadata": {},
   "source": [
    "There is a noticeably high range in Time to Read across the dataset, so let's look at the best 5 and worst 5 websites for Time to Read."
   ]
  },
  {
   "cell_type": "code",
   "execution_count": 10,
   "metadata": {},
   "outputs": [
    {
     "data": {
      "text/html": [
       "<div>\n",
       "<style scoped>\n",
       "    .dataframe tbody tr th:only-of-type {\n",
       "        vertical-align: middle;\n",
       "    }\n",
       "\n",
       "    .dataframe tbody tr th {\n",
       "        vertical-align: top;\n",
       "    }\n",
       "\n",
       "    .dataframe thead th {\n",
       "        text-align: right;\n",
       "    }\n",
       "</style>\n",
       "<table border=\"1\" class=\"dataframe\">\n",
       "  <thead>\n",
       "    <tr style=\"text-align: right;\">\n",
       "      <th></th>\n",
       "      <th>Website</th>\n",
       "      <th>Policy Content</th>\n",
       "      <th>Flesch Reading Ease</th>\n",
       "      <th>Time to Read</th>\n",
       "    </tr>\n",
       "  </thead>\n",
       "  <tbody>\n",
       "    <tr>\n",
       "      <th>41</th>\n",
       "      <td>naturalnews.com</td>\n",
       "      <td>Privacy Policy NaturalNews.com never rents or ...</td>\n",
       "      <td>55.122353</td>\n",
       "      <td>0.340</td>\n",
       "    </tr>\n",
       "    <tr>\n",
       "      <th>81</th>\n",
       "      <td>tangeroutlet.com</td>\n",
       "      <td>Privacy Policy TangerOutlets is committed to k...</td>\n",
       "      <td>33.260616</td>\n",
       "      <td>0.405</td>\n",
       "    </tr>\n",
       "    <tr>\n",
       "      <th>44</th>\n",
       "      <td>solarviews.com</td>\n",
       "      <td>Privacy Statement We allow third-party compani...</td>\n",
       "      <td>44.169000</td>\n",
       "      <td>0.410</td>\n",
       "    </tr>\n",
       "    <tr>\n",
       "      <th>48</th>\n",
       "      <td>eatchicken.com</td>\n",
       "      <td>Privacy Policy For each visitor to our Web sit...</td>\n",
       "      <td>42.246346</td>\n",
       "      <td>0.900</td>\n",
       "    </tr>\n",
       "    <tr>\n",
       "      <th>63</th>\n",
       "      <td>communitycoffee.com</td>\n",
       "      <td>PRIVACY STATEMENT OUR COMMITMENT TO PROTECTIN...</td>\n",
       "      <td>40.177500</td>\n",
       "      <td>0.985</td>\n",
       "    </tr>\n",
       "  </tbody>\n",
       "</table>\n",
       "</div>"
      ],
      "text/plain": [
       "                Website                                     Policy Content  \\\n",
       "41      naturalnews.com  Privacy Policy NaturalNews.com never rents or ...   \n",
       "81     tangeroutlet.com  Privacy Policy TangerOutlets is committed to k...   \n",
       "44       solarviews.com  Privacy Statement We allow third-party compani...   \n",
       "48       eatchicken.com  Privacy Policy For each visitor to our Web sit...   \n",
       "63  communitycoffee.com   PRIVACY STATEMENT OUR COMMITMENT TO PROTECTIN...   \n",
       "\n",
       "    Flesch Reading Ease  Time to Read  \n",
       "41            55.122353         0.340  \n",
       "81            33.260616         0.405  \n",
       "44            44.169000         0.410  \n",
       "48            42.246346         0.900  \n",
       "63            40.177500         0.985  "
      ]
     },
     "execution_count": 10,
     "metadata": {},
     "output_type": "execute_result"
    }
   ],
   "source": [
    "best_ttr = policies.sort_values(\"Time to Read\")\n",
    "best_ttr.head()"
   ]
  },
  {
   "attachments": {},
   "cell_type": "markdown",
   "metadata": {},
   "source": [
    "The websites with the shortest to read privacy policies are naturalnews.com (20.4 seconds), tangeroutlet.com (24.3 seconds), and solarviews.com (24.6 seconds). Policies of this length could reasonably be read by someone as they are signing up for a service, especially when their private data is on the line."
   ]
  },
  {
   "cell_type": "code",
   "execution_count": 11,
   "metadata": {},
   "outputs": [
    {
     "data": {
      "text/html": [
       "<div>\n",
       "<style scoped>\n",
       "    .dataframe tbody tr th:only-of-type {\n",
       "        vertical-align: middle;\n",
       "    }\n",
       "\n",
       "    .dataframe tbody tr th {\n",
       "        vertical-align: top;\n",
       "    }\n",
       "\n",
       "    .dataframe thead th {\n",
       "        text-align: right;\n",
       "    }\n",
       "</style>\n",
       "<table border=\"1\" class=\"dataframe\">\n",
       "  <thead>\n",
       "    <tr style=\"text-align: right;\">\n",
       "      <th></th>\n",
       "      <th>Website</th>\n",
       "      <th>Policy Content</th>\n",
       "      <th>Flesch Reading Ease</th>\n",
       "      <th>Time to Read</th>\n",
       "    </tr>\n",
       "  </thead>\n",
       "  <tbody>\n",
       "    <tr>\n",
       "      <th>82</th>\n",
       "      <td>barnesandnoble.com</td>\n",
       "      <td>Privacy Policy Effective Date: April 1, 2015 ...</td>\n",
       "      <td>37.314168</td>\n",
       "      <td>37.170</td>\n",
       "    </tr>\n",
       "    <tr>\n",
       "      <th>0</th>\n",
       "      <td>latinpost.com</td>\n",
       "      <td>Privacy Policy Last Modified: March 25, 2013 T...</td>\n",
       "      <td>35.964811</td>\n",
       "      <td>34.465</td>\n",
       "    </tr>\n",
       "    <tr>\n",
       "      <th>47</th>\n",
       "      <td>honda.com</td>\n",
       "      <td>STATEMENT OF PRIVACY ( 12/23/2014, UNITED STAT...</td>\n",
       "      <td>46.232042</td>\n",
       "      <td>29.565</td>\n",
       "    </tr>\n",
       "    <tr>\n",
       "      <th>73</th>\n",
       "      <td>kaleidahealth.org</td>\n",
       "      <td>NOTICE OF PRIVACY PRACTICES THIS NOTICE DESCR...</td>\n",
       "      <td>44.753620</td>\n",
       "      <td>27.515</td>\n",
       "    </tr>\n",
       "    <tr>\n",
       "      <th>59</th>\n",
       "      <td>rockstargames.com</td>\n",
       "      <td>Last updated on October 1, 2013 Rockstar Games...</td>\n",
       "      <td>37.532000</td>\n",
       "      <td>27.335</td>\n",
       "    </tr>\n",
       "  </tbody>\n",
       "</table>\n",
       "</div>"
      ],
      "text/plain": [
       "               Website                                     Policy Content  \\\n",
       "82  barnesandnoble.com   Privacy Policy Effective Date: April 1, 2015 ...   \n",
       "0        latinpost.com  Privacy Policy Last Modified: March 25, 2013 T...   \n",
       "47           honda.com  STATEMENT OF PRIVACY ( 12/23/2014, UNITED STAT...   \n",
       "73   kaleidahealth.org   NOTICE OF PRIVACY PRACTICES THIS NOTICE DESCR...   \n",
       "59   rockstargames.com  Last updated on October 1, 2013 Rockstar Games...   \n",
       "\n",
       "    Flesch Reading Ease  Time to Read  \n",
       "82            37.314168        37.170  \n",
       "0             35.964811        34.465  \n",
       "47            46.232042        29.565  \n",
       "73            44.753620        27.515  \n",
       "59            37.532000        27.335  "
      ]
     },
     "execution_count": 11,
     "metadata": {},
     "output_type": "execute_result"
    }
   ],
   "source": [
    "worst_ttr = policies.sort_values(\"Time to Read\", ascending=False)\n",
    "worst_ttr.head()"
   ]
  },
  {
   "attachments": {},
   "cell_type": "markdown",
   "metadata": {},
   "source": [
    "The websites with the longest privacy policies are barnesandnoble.com (37 minutes and 10 seconds), latinpost.com (34 minutes and 28 seconds), and honda.com (29 minutes and 34 seconds).\n",
    "\n",
    "Overall, the average privacy policy is far too long for a user to read as they are casually signing up for a new service."
   ]
  },
  {
   "attachments": {},
   "cell_type": "markdown",
   "metadata": {},
   "source": [
    "### Common Language Synonym Frequency (CLSF)\n",
    "\n",
    "The Common Langage Synonym Frequency (CLSF) is a metric I created for this project to determine whether a word or sentence is needlessly verbose.\n",
    "\n",
    "More formally,\n",
    "$$ CLSF(o) = \\frac{1}{|S|}\\sum_{x \\in S}{\\frac{f(x)}{f(o)}} $$\n",
    "Where $o$ is the original word, $S$ is the set containing its synonyms, and $f(x)$ represents the frequency of word $x$.\n",
    "\n",
    "A lower CLSF suggests that a word will be better understood by the average person."
   ]
  },
  {
   "attachments": {},
   "cell_type": "markdown",
   "metadata": {},
   "source": [
    "#### Calculating Word Frequency\n",
    "\n",
    "One of the most important parts of the CLSF is having access to the frequency of a word and its synonyms. Luckily, there is a [publically accessible dataset of the top 333,333 most commonly used English words and their frequency values](https://www.kaggle.com/datasets/rtatman/english-word-frequency). We will load in that dataset for "
   ]
  },
  {
   "cell_type": "code",
   "execution_count": 13,
   "metadata": {},
   "outputs": [
    {
     "data": {
      "text/html": [
       "<div>\n",
       "<style scoped>\n",
       "    .dataframe tbody tr th:only-of-type {\n",
       "        vertical-align: middle;\n",
       "    }\n",
       "\n",
       "    .dataframe tbody tr th {\n",
       "        vertical-align: top;\n",
       "    }\n",
       "\n",
       "    .dataframe thead th {\n",
       "        text-align: right;\n",
       "    }\n",
       "</style>\n",
       "<table border=\"1\" class=\"dataframe\">\n",
       "  <thead>\n",
       "    <tr style=\"text-align: right;\">\n",
       "      <th></th>\n",
       "      <th>word</th>\n",
       "      <th>count</th>\n",
       "      <th>frequency</th>\n",
       "    </tr>\n",
       "  </thead>\n",
       "  <tbody>\n",
       "    <tr>\n",
       "      <th>0</th>\n",
       "      <td>the</td>\n",
       "      <td>23135851162</td>\n",
       "      <td>0.039338</td>\n",
       "    </tr>\n",
       "    <tr>\n",
       "      <th>1</th>\n",
       "      <td>of</td>\n",
       "      <td>13151942776</td>\n",
       "      <td>0.022363</td>\n",
       "    </tr>\n",
       "    <tr>\n",
       "      <th>2</th>\n",
       "      <td>and</td>\n",
       "      <td>12997637966</td>\n",
       "      <td>0.022100</td>\n",
       "    </tr>\n",
       "    <tr>\n",
       "      <th>3</th>\n",
       "      <td>to</td>\n",
       "      <td>12136980858</td>\n",
       "      <td>0.020637</td>\n",
       "    </tr>\n",
       "    <tr>\n",
       "      <th>4</th>\n",
       "      <td>a</td>\n",
       "      <td>9081174698</td>\n",
       "      <td>0.015441</td>\n",
       "    </tr>\n",
       "  </tbody>\n",
       "</table>\n",
       "</div>"
      ],
      "text/plain": [
       "  word        count  frequency\n",
       "0  the  23135851162   0.039338\n",
       "1   of  13151942776   0.022363\n",
       "2  and  12997637966   0.022100\n",
       "3   to  12136980858   0.020637\n",
       "4    a   9081174698   0.015441"
      ]
     },
     "execution_count": 13,
     "metadata": {},
     "output_type": "execute_result"
    }
   ],
   "source": [
    "# Load in the word frequency dataset\n",
    "word_freq = pd.read_csv(\"data/unigram_freq.csv\")\n",
    "\n",
    "# Calculate the respective frequency data for each word\n",
    "word_freq[\"frequency\"] = word_freq[\"count\"] / word_freq[\"count\"].sum()\n",
    "\n",
    "word_freq.head()"
   ]
  },
  {
   "attachments": {},
   "cell_type": "markdown",
   "metadata": {},
   "source": [
    "Let's write a helper function to get the frequency of a word and try it out."
   ]
  },
  {
   "cell_type": "code",
   "execution_count": 14,
   "metadata": {},
   "outputs": [
    {
     "name": "stdout",
     "output_type": "stream",
     "text": [
      "'Hello' has frequency 5.6043230101150934e-05\n",
      "'World' has frequency 0.0007344269019607154\n",
      "'The' has frequency 0.03933837507090547\n",
      "'NotAWord' has frequency 0\n"
     ]
    }
   ],
   "source": [
    "def get_word_freq(word):\n",
    "    # Lowercase for consistency\n",
    "    word = word.lower()\n",
    "    # Remove any special characters\n",
    "    word = re.sub(r'\\W+', '', word)\n",
    "    word_f = word_freq[word_freq[\"word\"] == word]\n",
    "    if not word_f.empty:\n",
    "        return float(word_f[\"frequency\"])\n",
    "    else:\n",
    "        return 0\n",
    "\n",
    "print(\"'Hello' has frequency\", get_word_freq(\"hello\"))\n",
    "print(\"'World' has frequency\", get_word_freq(\"world\"))\n",
    "print(\"'The' has frequency\", get_word_freq(\"the\"))\n",
    "print(\"'NotAWord' has frequency\", get_word_freq(\"NotAWord\"))"
   ]
  },
  {
   "attachments": {},
   "cell_type": "markdown",
   "metadata": {},
   "source": [
    "#### Sentence Parsing and Synonym Identification\n",
    "\n",
    "For instance, \"survey\" could be considered a synonym of \"map\" when it acts as a verb, but not when it acts as a noun. In order to fix this, we "
   ]
  },
  {
   "cell_type": "code",
   "execution_count": 15,
   "metadata": {},
   "outputs": [
    {
     "name": "stdout",
     "output_type": "stream",
     "text": [
      "[Synset('plan.n.01'), Synset('program.n.02'), Synset('broadcast.n.02'), Synset('platform.n.02'), Synset('program.n.05'), Synset('course_of_study.n.01'), Synset('program.n.07'), Synset('program.n.08'), Synset('program.v.01'), Synset('program.v.02')]\n"
     ]
    }
   ],
   "source": [
    "from nltk.corpus import wordnet\n",
    "\n",
    "syns = wordnet.synsets(\"program\")\n",
    "\n",
    "print(syns)"
   ]
  }
 ],
 "metadata": {
  "kernelspec": {
   "display_name": "Python 3.9.7 ('base')",
   "language": "python",
   "name": "python3"
  },
  "language_info": {
   "codemirror_mode": {
    "name": "ipython",
    "version": 3
   },
   "file_extension": ".py",
   "mimetype": "text/x-python",
   "name": "python",
   "nbconvert_exporter": "python",
   "pygments_lexer": "ipython3",
   "version": "3.9.7"
  },
  "orig_nbformat": 4,
  "vscode": {
   "interpreter": {
    "hash": "02a55fddf5a49056bf2369596edbf614c125531bfd4002d69343a4f6494ee2ee"
   }
  }
 },
 "nbformat": 4,
 "nbformat_minor": 2
}
