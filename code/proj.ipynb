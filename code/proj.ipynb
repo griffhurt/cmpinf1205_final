{
 "cells": [
  {
   "attachments": {},
   "cell_type": "markdown",
   "metadata": {},
   "source": [
    "# CMPINF 1205 Final Project\n",
    "## Measuring Readability and Obfuscation of Privacy Policies in the OPP-115 Dataset\n",
    "By Griffin Hurt\n",
    "\n",
    "----\n",
    "\n",
    "### Introduction\n",
    "TODO"
   ]
  },
  {
   "attachments": {},
   "cell_type": "markdown",
   "metadata": {},
   "source": [
    "### Loading in the Data\n",
    "The OPP-115 dataset is provided in several different formats, but the easiest to parse in Python is the sanitized HTML. BeautifulSoup is a Python library built for parsing HTML, and it is used here to extract text from the policies. There are some extraneous characters in the dataset (specifically \"|||\") and sequences of multiple spaces, so those must be removed before adding the policy to the dataframe."
   ]
  },
  {
   "cell_type": "code",
   "execution_count": 167,
   "metadata": {},
   "outputs": [
    {
     "data": {
      "text/html": [
       "<div>\n",
       "<style scoped>\n",
       "    .dataframe tbody tr th:only-of-type {\n",
       "        vertical-align: middle;\n",
       "    }\n",
       "\n",
       "    .dataframe tbody tr th {\n",
       "        vertical-align: top;\n",
       "    }\n",
       "\n",
       "    .dataframe thead th {\n",
       "        text-align: right;\n",
       "    }\n",
       "</style>\n",
       "<table border=\"1\" class=\"dataframe\">\n",
       "  <thead>\n",
       "    <tr style=\"text-align: right;\">\n",
       "      <th></th>\n",
       "      <th>Website</th>\n",
       "      <th>Policy Content</th>\n",
       "    </tr>\n",
       "  </thead>\n",
       "  <tbody>\n",
       "    <tr>\n",
       "      <th>0</th>\n",
       "      <td>latinpost.com</td>\n",
       "      <td>Privacy Policy Last Modified: March 25, 2013 T...</td>\n",
       "    </tr>\n",
       "    <tr>\n",
       "      <th>1</th>\n",
       "      <td>google.com</td>\n",
       "      <td>Welcome to the Google Privacy Policy When you...</td>\n",
       "    </tr>\n",
       "    <tr>\n",
       "      <th>2</th>\n",
       "      <td>austincc.edu</td>\n",
       "      <td>Web Privacy Statement Austin Community Colleg...</td>\n",
       "    </tr>\n",
       "    <tr>\n",
       "      <th>3</th>\n",
       "      <td>pbs.org</td>\n",
       "      <td>Privacy Policy PBS is committed to protecting ...</td>\n",
       "    </tr>\n",
       "    <tr>\n",
       "      <th>4</th>\n",
       "      <td>usa.gov</td>\n",
       "      <td>Privacy, Security, and Accessibility Policies ...</td>\n",
       "    </tr>\n",
       "  </tbody>\n",
       "</table>\n",
       "</div>"
      ],
      "text/plain": [
       "         Website                                     Policy Content\n",
       "0  latinpost.com  Privacy Policy Last Modified: March 25, 2013 T...\n",
       "1     google.com   Welcome to the Google Privacy Policy When you...\n",
       "2   austincc.edu   Web Privacy Statement Austin Community Colleg...\n",
       "3        pbs.org  Privacy Policy PBS is committed to protecting ...\n",
       "4        usa.gov  Privacy, Security, and Accessibility Policies ..."
      ]
     },
     "execution_count": 167,
     "metadata": {},
     "output_type": "execute_result"
    }
   ],
   "source": [
    "from bs4 import BeautifulSoup\n",
    "import pandas as pd\n",
    "import os\n",
    "import re\n",
    "\n",
    "# Pandas dataframe with privacy policy data\n",
    "policies = pd.DataFrame(columns=[\"Website\", \"Policy Content\"])\n",
    "\n",
    "# For each policy file...\n",
    "for policy_file in os.listdir(\"data/opp_115\"):\n",
    "    # Open it\n",
    "    with open(\"data/opp_115/\" + policy_file, \"r\") as f:\n",
    "        # Parse it\n",
    "        soup = BeautifulSoup(f.read(), \"html.parser\")\n",
    "    # Get the text\n",
    "    html_text = soup.get_text()\n",
    "    # Remove the bars\n",
    "    html_text = html_text.replace(\"|||\", \"\")\n",
    "    # Remove multiple spaces\n",
    "    html_text = re.sub(r\"\\s+\", \" \", html_text)\n",
    "    # Get the name of the website\n",
    "    website_name = policy_file.split(\"_\")[1][:-5]\n",
    "    # Add it to the dataframe\n",
    "    policies.loc[len(policies.index)] = [website_name, html_text] \n",
    "\n",
    "# Display the first 5 elements of the dataframe\n",
    "policies.head()"
   ]
  },
  {
   "attachments": {},
   "cell_type": "markdown",
   "metadata": {},
   "source": [
    "The websites' privacy policies are now loaded into the \"Policy Content\" column and are ready to begin analyzed with metrics."
   ]
  },
  {
   "attachments": {},
   "cell_type": "markdown",
   "metadata": {},
   "source": [
    "### Flesch Reading Ease\n",
    "The first metric used for analysis is Flesch Reading Ease, which is a number between 0 and 100 that indicates what age a person must be to understand a text.\n",
    "\n",
    "The formula for Flesch Reading Ease is:\n",
    "$$FRE(w, s, y) = 206.835 - 1.015(\\frac{w}{s}) - 84.6(\\frac{y}{w})$$\n",
    "Where $w$ represents the number of words in the text, $s$ represents the number of sentences, and $y$ represents the number of syllables.\n",
    "\n",
    "The Flesch Reading Ease score can then be associated with a grade level understanding:\n",
    "<table>\n",
    "    <tr><th>Score</th><th>School Level</th></tr>\n",
    "    <tr><td>100 - 90</td><td>5th Grade</td></tr>\n",
    "    <tr><td>90 - 80</td><td>6th Grade</td></tr>\n",
    "    <tr><td>80 - 70</td><td>7th Grade</td></tr>\n",
    "    <tr><td>70 - 60</td><td>8th and 9th Grade</td></tr>\n",
    "    <tr><td>60 - 50</td><td>10th to 12th Grade (High School)</td></tr>\n",
    "    <tr><td>50 - 40</td><td>College</td></tr>\n",
    "    <tr><td>30 - 0</td><td>College Graduate</td></tr>\n",
    "</table>\n",
    "\n",
    "[[Source]](https://web.archive.org/web/20160712094308/http://www.mang.canterbury.ac.nz/writing_guide/writing/flesch.shtml)"
   ]
  },
  {
   "cell_type": "code",
   "execution_count": 168,
   "metadata": {},
   "outputs": [
    {
     "data": {
      "text/html": [
       "<div>\n",
       "<style scoped>\n",
       "    .dataframe tbody tr th:only-of-type {\n",
       "        vertical-align: middle;\n",
       "    }\n",
       "\n",
       "    .dataframe tbody tr th {\n",
       "        vertical-align: top;\n",
       "    }\n",
       "\n",
       "    .dataframe thead th {\n",
       "        text-align: right;\n",
       "    }\n",
       "</style>\n",
       "<table border=\"1\" class=\"dataframe\">\n",
       "  <thead>\n",
       "    <tr style=\"text-align: right;\">\n",
       "      <th></th>\n",
       "      <th>Website</th>\n",
       "      <th>Policy Content</th>\n",
       "      <th>Flesch Reading Ease</th>\n",
       "    </tr>\n",
       "  </thead>\n",
       "  <tbody>\n",
       "    <tr>\n",
       "      <th>0</th>\n",
       "      <td>latinpost.com</td>\n",
       "      <td>Privacy Policy Last Modified: March 25, 2013 T...</td>\n",
       "      <td>35.964811</td>\n",
       "    </tr>\n",
       "    <tr>\n",
       "      <th>1</th>\n",
       "      <td>google.com</td>\n",
       "      <td>Welcome to the Google Privacy Policy When you...</td>\n",
       "      <td>38.059614</td>\n",
       "    </tr>\n",
       "    <tr>\n",
       "      <th>2</th>\n",
       "      <td>austincc.edu</td>\n",
       "      <td>Web Privacy Statement Austin Community Colleg...</td>\n",
       "      <td>33.119489</td>\n",
       "    </tr>\n",
       "    <tr>\n",
       "      <th>3</th>\n",
       "      <td>pbs.org</td>\n",
       "      <td>Privacy Policy PBS is committed to protecting ...</td>\n",
       "      <td>43.740964</td>\n",
       "    </tr>\n",
       "    <tr>\n",
       "      <th>4</th>\n",
       "      <td>usa.gov</td>\n",
       "      <td>Privacy, Security, and Accessibility Policies ...</td>\n",
       "      <td>40.874814</td>\n",
       "    </tr>\n",
       "  </tbody>\n",
       "</table>\n",
       "</div>"
      ],
      "text/plain": [
       "         Website                                     Policy Content  \\\n",
       "0  latinpost.com  Privacy Policy Last Modified: March 25, 2013 T...   \n",
       "1     google.com   Welcome to the Google Privacy Policy When you...   \n",
       "2   austincc.edu   Web Privacy Statement Austin Community Colleg...   \n",
       "3        pbs.org  Privacy Policy PBS is committed to protecting ...   \n",
       "4        usa.gov  Privacy, Security, and Accessibility Policies ...   \n",
       "\n",
       "   Flesch Reading Ease  \n",
       "0            35.964811  \n",
       "1            38.059614  \n",
       "2            33.119489  \n",
       "3            43.740964  \n",
       "4            40.874814  "
      ]
     },
     "execution_count": 168,
     "metadata": {},
     "output_type": "execute_result"
    }
   ],
   "source": [
    "import pronouncing\n",
    "\n",
    "for index, row in policies.iterrows():\n",
    "    # Get the sentences\n",
    "    sentences_found = re.findall(r\"(([A-Z]\\w+) [^\\.]+\\.)+\", row[\"Policy Content\"])\n",
    "    sentences = []\n",
    "    for sentence in sentences_found:\n",
    "        sentences.append(sentence[0])\n",
    "    # Count the number of sentences\n",
    "    num_sentences = len(sentences)\n",
    "    # Get the number of syllables / words\n",
    "    num_syllables = 0\n",
    "    num_words = 0\n",
    "    for sentence in sentences:\n",
    "        words = sentence.split(\" \")\n",
    "        for word in words:\n",
    "            phones = pronouncing.phones_for_word(word)\n",
    "            # Check to make sure it's a word\n",
    "            if len(phones) > 0:\n",
    "                # Add words and syllables\n",
    "                num_words += 1\n",
    "                num_syllables += pronouncing.syllable_count(phones[0])\n",
    "    # Calculate Flesch Reading Ease\n",
    "    fre = 206.835 - 1.015*(num_words / num_sentences) - 84.6*(num_syllables / num_words)\n",
    "    # Add it to the dataframe\n",
    "    policies.at[index, \"Flesch Reading Ease\"] = fre\n",
    "\n",
    "# Display the dataframe\n",
    "policies.head()"
   ]
  },
  {
   "attachments": {},
   "cell_type": "markdown",
   "metadata": {},
   "source": [
    "Now the Flesch Reading Ease has been calculated for every privacy policy. To provide an overview, the mean, median, and mode can be calculated for the dataset:"
   ]
  },
  {
   "cell_type": "code",
   "execution_count": 169,
   "metadata": {},
   "outputs": [
    {
     "name": "stdout",
     "output_type": "stream",
     "text": [
      "Mean: 41.57538889132636\n",
      "Median: 42.004027381054584\n",
      "Standard Deviation: 7.239166693762004\n"
     ]
    }
   ],
   "source": [
    "mean = policies[\"Flesch Reading Ease\"].mean()\n",
    "median = policies[\"Flesch Reading Ease\"].median()\n",
    "std_dev = policies[\"Flesch Reading Ease\"].std()\n",
    "\n",
    "print(\"Mean:\", mean)\n",
    "print(\"Median:\", median)\n",
    "print(\"Standard Deviation:\", std_dev)"
   ]
  },
  {
   "attachments": {},
   "cell_type": "markdown",
   "metadata": {},
   "source": [
    "The average Flesch Reading Index for the privacy policies is around 42. Data can also be displayed on a histogram to visualize the distribution."
   ]
  },
  {
   "cell_type": "code",
   "execution_count": 170,
   "metadata": {},
   "outputs": [
    {
     "data": {
      "text/plain": [
       "array([[<matplotlib.axes._subplots.AxesSubplot object at 0x15864dd30>]],\n",
       "      dtype=object)"
      ]
     },
     "execution_count": 170,
     "metadata": {},
     "output_type": "execute_result"
    },
    {
     "data": {
      "image/png": "[encoded data removed]",
      "text/plain": [
       "<Figure size 640x480 with 1 Axes>"
      ]
     },
     "metadata": {},
     "output_type": "display_data"
    }
   ],
   "source": [
    "policies.hist(\"Flesch Reading Ease\", bins=30)"
   ]
  },
  {
   "attachments": {},
   "cell_type": "markdown",
   "metadata": {},
   "source": [
    "Remember that COPPA allows the collection of data from children as young as 13 (8th grade). For a child of that age to understand a policy, its Flesch Reading Ease score should be in the 60s or 70s. The data can be filtered in order to determine how many policies fit this requirement."
   ]
  },
  {
   "cell_type": "code",
   "execution_count": 171,
   "metadata": {},
   "outputs": [
    {
     "data": {
      "text/html": [
       "<div>\n",
       "<style scoped>\n",
       "    .dataframe tbody tr th:only-of-type {\n",
       "        vertical-align: middle;\n",
       "    }\n",
       "\n",
       "    .dataframe tbody tr th {\n",
       "        vertical-align: top;\n",
       "    }\n",
       "\n",
       "    .dataframe thead th {\n",
       "        text-align: right;\n",
       "    }\n",
       "</style>\n",
       "<table border=\"1\" class=\"dataframe\">\n",
       "  <thead>\n",
       "    <tr style=\"text-align: right;\">\n",
       "      <th></th>\n",
       "      <th>Website</th>\n",
       "      <th>Policy Content</th>\n",
       "      <th>Flesch Reading Ease</th>\n",
       "    </tr>\n",
       "  </thead>\n",
       "  <tbody>\n",
       "    <tr>\n",
       "      <th>10</th>\n",
       "      <td>ticketmaster.com</td>\n",
       "      <td>Live Nation Entertainment Privacy Policy - You...</td>\n",
       "      <td>66.389168</td>\n",
       "    </tr>\n",
       "    <tr>\n",
       "      <th>13</th>\n",
       "      <td>dogbreedinfo.com</td>\n",
       "      <td>Privacy Policy Dog Breed Info Center does not ...</td>\n",
       "      <td>61.862595</td>\n",
       "    </tr>\n",
       "    <tr>\n",
       "      <th>86</th>\n",
       "      <td>sci-news.com</td>\n",
       "      <td>Privacy Policy Sci-News.com is committed to pr...</td>\n",
       "      <td>65.528684</td>\n",
       "    </tr>\n",
       "  </tbody>\n",
       "</table>\n",
       "</div>"
      ],
      "text/plain": [
       "             Website                                     Policy Content  \\\n",
       "10  ticketmaster.com  Live Nation Entertainment Privacy Policy - You...   \n",
       "13  dogbreedinfo.com  Privacy Policy Dog Breed Info Center does not ...   \n",
       "86      sci-news.com  Privacy Policy Sci-News.com is committed to pr...   \n",
       "\n",
       "    Flesch Reading Ease  \n",
       "10            66.389168  \n",
       "13            61.862595  \n",
       "86            65.528684  "
      ]
     },
     "execution_count": 171,
     "metadata": {},
     "output_type": "execute_result"
    }
   ],
   "source": [
    "coppa_policies = policies[policies[\"Flesch Reading Ease\"] > 60]\n",
    "coppa_policies"
   ]
  },
  {
   "attachments": {},
   "cell_type": "markdown",
   "metadata": {},
   "source": [
    "There are only three websites with policies in the 60s: ticketmaster.com, dogbreedinfo.com, and sci-news.com. That is a only 2.6% of the data sample. There are no policies in the 70s or above.\n",
    "\n",
    "The data can be sorted by Flesch Reading Ease in ascending order to find which policies are the hardest to read."
   ]
  },
  {
   "cell_type": "code",
   "execution_count": 172,
   "metadata": {},
   "outputs": [
    {
     "data": {
      "text/html": [
       "<div>\n",
       "<style scoped>\n",
       "    .dataframe tbody tr th:only-of-type {\n",
       "        vertical-align: middle;\n",
       "    }\n",
       "\n",
       "    .dataframe tbody tr th {\n",
       "        vertical-align: top;\n",
       "    }\n",
       "\n",
       "    .dataframe thead th {\n",
       "        text-align: right;\n",
       "    }\n",
       "</style>\n",
       "<table border=\"1\" class=\"dataframe\">\n",
       "  <thead>\n",
       "    <tr style=\"text-align: right;\">\n",
       "      <th></th>\n",
       "      <th>Website</th>\n",
       "      <th>Policy Content</th>\n",
       "      <th>Flesch Reading Ease</th>\n",
       "    </tr>\n",
       "  </thead>\n",
       "  <tbody>\n",
       "    <tr>\n",
       "      <th>87</th>\n",
       "      <td>abcnews.com</td>\n",
       "      <td>Privacy Policy The Walt Disney Company has a ...</td>\n",
       "      <td>23.248971</td>\n",
       "    </tr>\n",
       "    <tr>\n",
       "      <th>42</th>\n",
       "      <td>playstation.com</td>\n",
       "      <td>Privacy Policy Last Revised: April, 2011 Sony...</td>\n",
       "      <td>26.417748</td>\n",
       "    </tr>\n",
       "    <tr>\n",
       "      <th>74</th>\n",
       "      <td>thehill.com</td>\n",
       "      <td>THE HILL'S PRIVACY POLICY This Privacy Policy...</td>\n",
       "      <td>27.381359</td>\n",
       "    </tr>\n",
       "  </tbody>\n",
       "</table>\n",
       "</div>"
      ],
      "text/plain": [
       "            Website                                     Policy Content  \\\n",
       "87      abcnews.com   Privacy Policy The Walt Disney Company has a ...   \n",
       "42  playstation.com   Privacy Policy Last Revised: April, 2011 Sony...   \n",
       "74      thehill.com   THE HILL'S PRIVACY POLICY This Privacy Policy...   \n",
       "\n",
       "    Flesch Reading Ease  \n",
       "87            23.248971  \n",
       "42            26.417748  \n",
       "74            27.381359  "
      ]
     },
     "execution_count": 172,
     "metadata": {},
     "output_type": "execute_result"
    }
   ],
   "source": [
    "policies_sorted = policies.sort_values(\"Flesch Reading Ease\")\n",
    "policies_sorted.head(3)"
   ]
  },
  {
   "attachments": {},
   "cell_type": "markdown",
   "metadata": {},
   "source": [
    "The websites abcnews.com, playstation.com, and thehill.com have the three least readable privacy policies. All of these policies fall in the \"college graduate\" section from the table.\n",
    "\n",
    "Based on the Flesch Reading Ease metric, most privacy policies are not able to be read by 13 year olds, despite the law allowing these children to give away their data to corporations."
   ]
  },
  {
   "attachments": {},
   "cell_type": "markdown",
   "metadata": {},
   "source": [
    "### Time to Read\n",
    "\n",
    "Another metric commonly used to measure the \"readability\" of a text is Time to Read. Time to Read is the amount of time it takes for a person to read and understand a section of text.\n",
    "\n",
    "On average, a person reads 200 words per minute, so Time to Read is calculated by dividing the number of words by 200:\n",
    "$$TTR(w) = \\frac{w}{200}$$\n",
    "Where $w$ represents the number of words.\n",
    "\n",
    "Using this formula, Time to Read can be calculated for every privacy policy in the dataset."
   ]
  },
  {
   "cell_type": "code",
   "execution_count": 173,
   "metadata": {},
   "outputs": [
    {
     "data": {
      "text/html": [
       "<div>\n",
       "<style scoped>\n",
       "    .dataframe tbody tr th:only-of-type {\n",
       "        vertical-align: middle;\n",
       "    }\n",
       "\n",
       "    .dataframe tbody tr th {\n",
       "        vertical-align: top;\n",
       "    }\n",
       "\n",
       "    .dataframe thead th {\n",
       "        text-align: right;\n",
       "    }\n",
       "</style>\n",
       "<table border=\"1\" class=\"dataframe\">\n",
       "  <thead>\n",
       "    <tr style=\"text-align: right;\">\n",
       "      <th></th>\n",
       "      <th>Website</th>\n",
       "      <th>Policy Content</th>\n",
       "      <th>Flesch Reading Ease</th>\n",
       "      <th>Time to Read</th>\n",
       "    </tr>\n",
       "  </thead>\n",
       "  <tbody>\n",
       "    <tr>\n",
       "      <th>0</th>\n",
       "      <td>latinpost.com</td>\n",
       "      <td>Privacy Policy Last Modified: March 25, 2013 T...</td>\n",
       "      <td>35.964811</td>\n",
       "      <td>34.465</td>\n",
       "    </tr>\n",
       "    <tr>\n",
       "      <th>1</th>\n",
       "      <td>google.com</td>\n",
       "      <td>Welcome to the Google Privacy Policy When you...</td>\n",
       "      <td>38.059614</td>\n",
       "      <td>12.490</td>\n",
       "    </tr>\n",
       "    <tr>\n",
       "      <th>2</th>\n",
       "      <td>austincc.edu</td>\n",
       "      <td>Web Privacy Statement Austin Community Colleg...</td>\n",
       "      <td>33.119489</td>\n",
       "      <td>4.140</td>\n",
       "    </tr>\n",
       "    <tr>\n",
       "      <th>3</th>\n",
       "      <td>pbs.org</td>\n",
       "      <td>Privacy Policy PBS is committed to protecting ...</td>\n",
       "      <td>43.740964</td>\n",
       "      <td>9.765</td>\n",
       "    </tr>\n",
       "    <tr>\n",
       "      <th>4</th>\n",
       "      <td>usa.gov</td>\n",
       "      <td>Privacy, Security, and Accessibility Policies ...</td>\n",
       "      <td>40.874814</td>\n",
       "      <td>4.375</td>\n",
       "    </tr>\n",
       "  </tbody>\n",
       "</table>\n",
       "</div>"
      ],
      "text/plain": [
       "         Website                                     Policy Content  \\\n",
       "0  latinpost.com  Privacy Policy Last Modified: March 25, 2013 T...   \n",
       "1     google.com   Welcome to the Google Privacy Policy When you...   \n",
       "2   austincc.edu   Web Privacy Statement Austin Community Colleg...   \n",
       "3        pbs.org  Privacy Policy PBS is committed to protecting ...   \n",
       "4        usa.gov  Privacy, Security, and Accessibility Policies ...   \n",
       "\n",
       "   Flesch Reading Ease  Time to Read  \n",
       "0            35.964811        34.465  \n",
       "1            38.059614        12.490  \n",
       "2            33.119489         4.140  \n",
       "3            43.740964         9.765  \n",
       "4            40.874814         4.375  "
      ]
     },
     "execution_count": 173,
     "metadata": {},
     "output_type": "execute_result"
    }
   ],
   "source": [
    "for index, row in policies.iterrows():\n",
    "    # Get each sentence in the policy\n",
    "    sentences_found = re.findall(r\"(([A-Z]\\w+) [^\\.]+\\.)+\", row[\"Policy Content\"])\n",
    "    sentences = []\n",
    "    for sentence in sentences_found:\n",
    "        sentences.append(sentence[0])\n",
    "    # Get the number of words in each sentence\n",
    "    num_words = 0\n",
    "    for sentence in sentences:\n",
    "        words = sentence.split(\" \")\n",
    "        num_words += len(words)\n",
    "    # Calculate the time to read\n",
    "    policies.at[index, \"Time to Read\"] = num_words / 200\n",
    "        \n",
    "policies.head()"
   ]
  },
  {
   "attachments": {},
   "cell_type": "markdown",
   "metadata": {},
   "source": [
    "To better understand Time to Read across the entire dataset, the mean, median, and standard deviation are calculated below."
   ]
  },
  {
   "cell_type": "code",
   "execution_count": 174,
   "metadata": {},
   "outputs": [
    {
     "name": "stdout",
     "output_type": "stream",
     "text": [
      "Mean: 10.74695652173913 minutes\n",
      "Median: 10.61 minutes\n",
      "Standard Deviation: 7.36671841577994 minutes\n"
     ]
    }
   ],
   "source": [
    "mean = policies[\"Time to Read\"].mean()\n",
    "median = policies[\"Time to Read\"].median()\n",
    "std_dev = policies[\"Time to Read\"].std()\n",
    "\n",
    "print(\"Mean:\", mean, \"minutes\")\n",
    "print(\"Median:\", median, \"minutes\")\n",
    "print(\"Standard Deviation:\", std_dev, \"minutes\")"
   ]
  },
  {
   "attachments": {},
   "cell_type": "markdown",
   "metadata": {},
   "source": [
    "The average privacy policy requires 10.7 minutes, or 10 minutes and 45 seconds, to read and comprehend. This is much longer than the average person spends signing up for a new service. Once again, a histogram is shown below to visualize the distribution of Time to Read."
   ]
  },
  {
   "cell_type": "code",
   "execution_count": 175,
   "metadata": {},
   "outputs": [
    {
     "data": {
      "text/plain": [
       "array([[<matplotlib.axes._subplots.AxesSubplot object at 0x158449af0>]],\n",
       "      dtype=object)"
      ]
     },
     "execution_count": 175,
     "metadata": {},
     "output_type": "execute_result"
    },
    {
     "data": {
      "image/png": "[encoded data removed]",
      "text/plain": [
       "<Figure size 640x480 with 1 Axes>"
      ]
     },
     "metadata": {},
     "output_type": "display_data"
    }
   ],
   "source": [
    "policies.hist(\"Time to Read\", bins=30)"
   ]
  },
  {
   "attachments": {},
   "cell_type": "markdown",
   "metadata": {},
   "source": [
    "There is a noticeably high range in Time to Read across the dataset."
   ]
  },
  {
   "cell_type": "code",
   "execution_count": 176,
   "metadata": {},
   "outputs": [
    {
     "data": {
      "text/html": [
       "<div>\n",
       "<style scoped>\n",
       "    .dataframe tbody tr th:only-of-type {\n",
       "        vertical-align: middle;\n",
       "    }\n",
       "\n",
       "    .dataframe tbody tr th {\n",
       "        vertical-align: top;\n",
       "    }\n",
       "\n",
       "    .dataframe thead th {\n",
       "        text-align: right;\n",
       "    }\n",
       "</style>\n",
       "<table border=\"1\" class=\"dataframe\">\n",
       "  <thead>\n",
       "    <tr style=\"text-align: right;\">\n",
       "      <th></th>\n",
       "      <th>Website</th>\n",
       "      <th>Policy Content</th>\n",
       "      <th>Flesch Reading Ease</th>\n",
       "      <th>Time to Read</th>\n",
       "    </tr>\n",
       "  </thead>\n",
       "  <tbody>\n",
       "    <tr>\n",
       "      <th>41</th>\n",
       "      <td>naturalnews.com</td>\n",
       "      <td>Privacy Policy NaturalNews.com never rents or ...</td>\n",
       "      <td>55.122353</td>\n",
       "      <td>0.340</td>\n",
       "    </tr>\n",
       "    <tr>\n",
       "      <th>81</th>\n",
       "      <td>tangeroutlet.com</td>\n",
       "      <td>Privacy Policy TangerOutlets is committed to k...</td>\n",
       "      <td>33.260616</td>\n",
       "      <td>0.405</td>\n",
       "    </tr>\n",
       "    <tr>\n",
       "      <th>44</th>\n",
       "      <td>solarviews.com</td>\n",
       "      <td>Privacy Statement We allow third-party compani...</td>\n",
       "      <td>44.169000</td>\n",
       "      <td>0.410</td>\n",
       "    </tr>\n",
       "  </tbody>\n",
       "</table>\n",
       "</div>"
      ],
      "text/plain": [
       "             Website                                     Policy Content  \\\n",
       "41   naturalnews.com  Privacy Policy NaturalNews.com never rents or ...   \n",
       "81  tangeroutlet.com  Privacy Policy TangerOutlets is committed to k...   \n",
       "44    solarviews.com  Privacy Statement We allow third-party compani...   \n",
       "\n",
       "    Flesch Reading Ease  Time to Read  \n",
       "41            55.122353         0.340  \n",
       "81            33.260616         0.405  \n",
       "44            44.169000         0.410  "
      ]
     },
     "execution_count": 176,
     "metadata": {},
     "output_type": "execute_result"
    }
   ],
   "source": [
    "best_ttr = policies.sort_values(\"Time to Read\")\n",
    "best_ttr.head(3)"
   ]
  },
  {
   "attachments": {},
   "cell_type": "markdown",
   "metadata": {},
   "source": [
    "The websites with the shortest to read privacy policies are naturalnews.com (20.4 seconds), tangeroutlet.com (24.3 seconds), and solarviews.com (24.6 seconds). Policies of this length could reasonably be read by someone as they are signing up for a service, especially when their private data is on the line."
   ]
  },
  {
   "cell_type": "code",
   "execution_count": 177,
   "metadata": {},
   "outputs": [
    {
     "data": {
      "text/html": [
       "<div>\n",
       "<style scoped>\n",
       "    .dataframe tbody tr th:only-of-type {\n",
       "        vertical-align: middle;\n",
       "    }\n",
       "\n",
       "    .dataframe tbody tr th {\n",
       "        vertical-align: top;\n",
       "    }\n",
       "\n",
       "    .dataframe thead th {\n",
       "        text-align: right;\n",
       "    }\n",
       "</style>\n",
       "<table border=\"1\" class=\"dataframe\">\n",
       "  <thead>\n",
       "    <tr style=\"text-align: right;\">\n",
       "      <th></th>\n",
       "      <th>Website</th>\n",
       "      <th>Policy Content</th>\n",
       "      <th>Flesch Reading Ease</th>\n",
       "      <th>Time to Read</th>\n",
       "    </tr>\n",
       "  </thead>\n",
       "  <tbody>\n",
       "    <tr>\n",
       "      <th>82</th>\n",
       "      <td>barnesandnoble.com</td>\n",
       "      <td>Privacy Policy Effective Date: April 1, 2015 ...</td>\n",
       "      <td>37.314168</td>\n",
       "      <td>37.170</td>\n",
       "    </tr>\n",
       "    <tr>\n",
       "      <th>0</th>\n",
       "      <td>latinpost.com</td>\n",
       "      <td>Privacy Policy Last Modified: March 25, 2013 T...</td>\n",
       "      <td>35.964811</td>\n",
       "      <td>34.465</td>\n",
       "    </tr>\n",
       "    <tr>\n",
       "      <th>47</th>\n",
       "      <td>honda.com</td>\n",
       "      <td>STATEMENT OF PRIVACY ( 12/23/2014, UNITED STAT...</td>\n",
       "      <td>46.232042</td>\n",
       "      <td>29.565</td>\n",
       "    </tr>\n",
       "  </tbody>\n",
       "</table>\n",
       "</div>"
      ],
      "text/plain": [
       "               Website                                     Policy Content  \\\n",
       "82  barnesandnoble.com   Privacy Policy Effective Date: April 1, 2015 ...   \n",
       "0        latinpost.com  Privacy Policy Last Modified: March 25, 2013 T...   \n",
       "47           honda.com  STATEMENT OF PRIVACY ( 12/23/2014, UNITED STAT...   \n",
       "\n",
       "    Flesch Reading Ease  Time to Read  \n",
       "82            37.314168        37.170  \n",
       "0             35.964811        34.465  \n",
       "47            46.232042        29.565  "
      ]
     },
     "execution_count": 177,
     "metadata": {},
     "output_type": "execute_result"
    }
   ],
   "source": [
    "worst_ttr = policies.sort_values(\"Time to Read\", ascending=False)\n",
    "worst_ttr.head(3)"
   ]
  },
  {
   "attachments": {},
   "cell_type": "markdown",
   "metadata": {},
   "source": [
    "The websites with the longest privacy policies are barnesandnoble.com (37 minutes and 10 seconds), latinpost.com (34 minutes and 28 seconds), and honda.com (29 minutes and 34 seconds).\n",
    "\n",
    "Overall, the average privacy policy is far too long for a user to read as they are casually signing up for a new service."
   ]
  },
  {
   "attachments": {},
   "cell_type": "markdown",
   "metadata": {},
   "source": [
    "### Common Language Synonym Frequency (CLSF)\n",
    "\n",
    "The Common Langage Synonym Frequency (CLSF) is a metric created for this project to determine whether a word or sentence is needlessly verbose. The metric is calculated by taking the average ratio between the frequency of a word's synonyms and the original word.\n",
    "\n",
    "More formally,\n",
    "$$ CLSF(o, S) = \\frac{1}{|S|}\\sum_{x \\in S}{\\frac{f(x)}{f(o)}} $$\n",
    "Where $o$ is the original word, $S$ is the set containing its synonyms, and $f(x)$ represents the frequency of word $x$.\n",
    "\n",
    "Only nouns, adjectives, verbs, and adverbs are considered in calculating the CLSF. \n",
    "\n",
    "In theory, a text with a lower CLSF suggests that it will be better understood by the average person, as each word has few synonyms more commonly used than itself."
   ]
  },
  {
   "attachments": {},
   "cell_type": "markdown",
   "metadata": {},
   "source": [
    "#### Calculating Word Frequency\n",
    "\n",
    "One of the most important parts of the CLSF is having access to the frequency of a word and its synonyms. Luckily, there is a [publicly accessible dataset of the top 333,333 most commonly used English words and their number of appearances](https://www.kaggle.com/datasets/rtatman/english-word-frequency). This dataset is loaded into the notebook and used to calculate a frequency value for each word."
   ]
  },
  {
   "cell_type": "code",
   "execution_count": 178,
   "metadata": {},
   "outputs": [
    {
     "data": {
      "text/html": [
       "<div>\n",
       "<style scoped>\n",
       "    .dataframe tbody tr th:only-of-type {\n",
       "        vertical-align: middle;\n",
       "    }\n",
       "\n",
       "    .dataframe tbody tr th {\n",
       "        vertical-align: top;\n",
       "    }\n",
       "\n",
       "    .dataframe thead th {\n",
       "        text-align: right;\n",
       "    }\n",
       "</style>\n",
       "<table border=\"1\" class=\"dataframe\">\n",
       "  <thead>\n",
       "    <tr style=\"text-align: right;\">\n",
       "      <th></th>\n",
       "      <th>word</th>\n",
       "      <th>count</th>\n",
       "      <th>frequency</th>\n",
       "    </tr>\n",
       "  </thead>\n",
       "  <tbody>\n",
       "    <tr>\n",
       "      <th>0</th>\n",
       "      <td>the</td>\n",
       "      <td>23135851162</td>\n",
       "      <td>0.039338</td>\n",
       "    </tr>\n",
       "    <tr>\n",
       "      <th>1</th>\n",
       "      <td>of</td>\n",
       "      <td>13151942776</td>\n",
       "      <td>0.022363</td>\n",
       "    </tr>\n",
       "    <tr>\n",
       "      <th>2</th>\n",
       "      <td>and</td>\n",
       "      <td>12997637966</td>\n",
       "      <td>0.022100</td>\n",
       "    </tr>\n",
       "    <tr>\n",
       "      <th>3</th>\n",
       "      <td>to</td>\n",
       "      <td>12136980858</td>\n",
       "      <td>0.020637</td>\n",
       "    </tr>\n",
       "    <tr>\n",
       "      <th>4</th>\n",
       "      <td>a</td>\n",
       "      <td>9081174698</td>\n",
       "      <td>0.015441</td>\n",
       "    </tr>\n",
       "  </tbody>\n",
       "</table>\n",
       "</div>"
      ],
      "text/plain": [
       "  word        count  frequency\n",
       "0  the  23135851162   0.039338\n",
       "1   of  13151942776   0.022363\n",
       "2  and  12997637966   0.022100\n",
       "3   to  12136980858   0.020637\n",
       "4    a   9081174698   0.015441"
      ]
     },
     "execution_count": 178,
     "metadata": {},
     "output_type": "execute_result"
    }
   ],
   "source": [
    "# Load in the word frequency dataset\n",
    "word_freq = pd.read_csv(\"data/unigram_freq.csv\")\n",
    "\n",
    "# Calculate the respective frequency data for each word\n",
    "word_freq[\"frequency\"] = word_freq[\"count\"] / word_freq[\"count\"].sum()\n",
    "\n",
    "word_freq.head()"
   ]
  },
  {
   "attachments": {},
   "cell_type": "markdown",
   "metadata": {},
   "source": [
    "To simplify the process of getting the frequency of an individual word, a helper function is created. Several examples using the helper function are included below."
   ]
  },
  {
   "cell_type": "code",
   "execution_count": 179,
   "metadata": {},
   "outputs": [
    {
     "name": "stdout",
     "output_type": "stream",
     "text": [
      "'Hello' has frequency 5.6043230101150934e-05\n",
      "'World' has frequency 0.0007344269019607154\n",
      "'The' has frequency 0.03933837507090547\n",
      "'NotAWord' has frequency 0\n"
     ]
    }
   ],
   "source": [
    "def get_word_freq(word):\n",
    "    # Lowercase for consistency\n",
    "    word = word.lower()\n",
    "    # Remove any special characters\n",
    "    word = re.sub(r'\\W+', '', word)\n",
    "    word_f = word_freq[word_freq[\"word\"] == word]\n",
    "    if not word_f.empty:\n",
    "        return float(word_f[\"frequency\"])\n",
    "    else:\n",
    "        return 0\n",
    "\n",
    "# Example usage of the function:\n",
    "print(\"'Hello' has frequency\", get_word_freq(\"hello\"))\n",
    "print(\"'World' has frequency\", get_word_freq(\"world\"))\n",
    "print(\"'The' has frequency\", get_word_freq(\"the\"))\n",
    "print(\"'NotAWord' has frequency\", get_word_freq(\"NotAWord\"))"
   ]
  },
  {
   "attachments": {},
   "cell_type": "markdown",
   "metadata": {},
   "source": [
    "#### Sentence Parsing and Part of Speech Identification\n",
    "\n",
    "Calculating the CLSF relies on finding the synonyms of a word, which requires partial knowledge of its context. For instance, \"survey\" could be considered a synonym of \"map\" when it acts as a verb, but not when it acts as a noun. Therefore, a word's part of speech must be identified before finding its synonyms. This can be accomplished with the NLTK (natural language toolkit) Python library and the `averaged_perceptron_tagger`.\n",
    "\n",
    "The `averaged_perceptron_tagger` must first be downloaded using NLTK."
   ]
  },
  {
   "cell_type": "code",
   "execution_count": 180,
   "metadata": {},
   "outputs": [
    {
     "name": "stderr",
     "output_type": "stream",
     "text": [
      "[nltk_data] Downloading package averaged_perceptron_tagger to\n",
      "[nltk_data]     /Users/ghurt/nltk_data...\n",
      "[nltk_data]   Package averaged_perceptron_tagger is already up-to-\n",
      "[nltk_data]       date!\n"
     ]
    },
    {
     "data": {
      "text/plain": [
       "True"
      ]
     },
     "execution_count": 180,
     "metadata": {},
     "output_type": "execute_result"
    }
   ],
   "source": [
    "import nltk\n",
    "\n",
    "nltk.download('averaged_perceptron_tagger')"
   ]
  },
  {
   "attachments": {},
   "cell_type": "markdown",
   "metadata": {},
   "source": [
    "Before NLTK can assign part of speech tags to a text, the text must be split into its individual words. NLTK comes bundled with several sentence parsers, but most of them require long computation time which is not feasible for a dataset this large. Therefore, this project uses a simpler sentence tokenizer that ignores numbers and special characters.\n",
    "\n",
    "An example of tokenizing and tagging text is provided below."
   ]
  },
  {
   "cell_type": "code",
   "execution_count": 181,
   "metadata": {},
   "outputs": [
    {
     "name": "stdout",
     "output_type": "stream",
     "text": [
      "[('This', 'DT'), ('sentence', 'NN'), ('is', 'VBZ'), ('false', 'JJ'), ('I', 'PRP'), ('say', 'VBP'), ('hello', 'JJ'), ('world', 'NN')]\n"
     ]
    }
   ],
   "source": [
    "from nltk import pos_tag\n",
    "\n",
    "# Numbers and special characters can be removed because they are not words\n",
    "def tokenize(sentence):\n",
    "    splt = sentence.split(\" \")\n",
    "    out = []\n",
    "    for word in splt:\n",
    "        # Remove special characters\n",
    "        word = re.sub(r\"[^A-Za-z']\", '', word)\n",
    "        out += word.split(\"'\")\n",
    "    return out\n",
    "\n",
    "# Tokenizing the text\n",
    "sent = tokenize(\"This sentence is false. I say hello world.\")\n",
    "# Tagging each of the words with a part of speech\n",
    "tagged = pos_tag(sent)\n",
    "\n",
    "print(tagged)"
   ]
  },
  {
   "attachments": {},
   "cell_type": "markdown",
   "metadata": {},
   "source": [
    "Each of the words in the text are assigned a part of speech from the [Penn Treebank Project list](https://www.ling.upenn.edu/courses/Fall_2003/ling001/penn_treebank_pos.html). Because the CLSF is only calculated with nouns, adjectives, adverbs, and verbs, words with other parts of speech can be filtered out."
   ]
  },
  {
   "cell_type": "code",
   "execution_count": 182,
   "metadata": {},
   "outputs": [
    {
     "data": {
      "text/plain": [
       "[('sentence', 'n'),\n",
       " ('is', 'v'),\n",
       " ('false', 'a'),\n",
       " ('say', 'v'),\n",
       " ('hello', 'a'),\n",
       " ('world', 'n')]"
      ]
     },
     "execution_count": 182,
     "metadata": {},
     "output_type": "execute_result"
    }
   ],
   "source": [
    "from nltk.corpus import wordnet\n",
    "\n",
    "# Categorize all of the important parts of speech tags\n",
    "speech_tags = {\n",
    "    \"noun\": [\"NN\", \"NNS\"],\n",
    "    \"verb\": [\"VB\", \"VBD\", \"VBG\", \"VBN\", \"VBP\", \"VBZ\"],\n",
    "    \"adjective\": [\"JJ\", \"JJR\", \"JJS\"],\n",
    "    \"adverb\": [\"RB\", \"RBR\", \"RBS\"]\n",
    "}\n",
    "\n",
    "# Associate each of the simple speech tags with a wordnet part of speech\n",
    "wn_speech_tags = {\n",
    "    \"noun\": wordnet.NOUN,\n",
    "    \"verb\": wordnet.VERB,\n",
    "    \"adjective\": wordnet.ADJ,\n",
    "    \"adverb\": wordnet.ADV\n",
    "}\n",
    "\n",
    "# Helper function to tag words with their wordnet part of speech\n",
    "def tag_sentence(text):\n",
    "    # Tokenize the text\n",
    "    toked = tokenize(text)\n",
    "    # Tag each of the words with a part of speech\n",
    "    tagged = pos_tag(toked)\n",
    "    # Blank output array\n",
    "    out = []\n",
    "    # Loop through the tagged words\n",
    "    for word_tuple in tagged:\n",
    "        # Loop through the simple tags (the words we want to identify)\n",
    "        for simple_tag, specific_tags in speech_tags.items():\n",
    "            # If this word fits the tag\n",
    "            if word_tuple[1] in specific_tags:\n",
    "                # Add the word to the output\n",
    "                out.append((word_tuple[0], wn_speech_tags[simple_tag]))\n",
    "                # Break to speed up computation\n",
    "                break\n",
    "    # Return the array of identified words and their parts of speech\n",
    "    return out\n",
    "\n",
    "# Try out the helper function\n",
    "tag_sentence(\"This sentence is false. I say hello world.\")"
   ]
  },
  {
   "attachments": {},
   "cell_type": "markdown",
   "metadata": {},
   "source": [
    "Words included in the CLSF calculation can now effectively be extracted and tagged with their part of speech."
   ]
  },
  {
   "attachments": {},
   "cell_type": "markdown",
   "metadata": {},
   "source": [
    "#### Finding Synonyms\n",
    "\n",
    "The next step to calculating the CLSF is finding synoyms for each of the identified words. This can be accomplished with the `wordnet` library in NLTK. Synonyms are filtered by part of speech with the helper function written below."
   ]
  },
  {
   "cell_type": "code",
   "execution_count": 183,
   "metadata": {},
   "outputs": [
    {
     "name": "stdout",
     "output_type": "stream",
     "text": [
      "'Car' has the synonyms: ['railcar', 'machine', 'automobile', 'motorcar', 'gondola', 'auto']\n",
      "'World' has the synonyms: ['humanity', 'domain', 'humankind', 'macrocosm', 'man', 'existence', 'humans', 'populace', 'mankind', 'reality', 'public', 'earth', 'universe', 'Earth', 'creation', 'cosmos', 'globe']\n",
      "'Privacy' has the synonyms: ['seclusion', 'secrecy', 'concealment', 'privateness']\n"
     ]
    }
   ],
   "source": [
    "# Function to get synonyms of a word using wordnet\n",
    "def get_synonyms(word, pos):\n",
    "    # Make sure the word is lowercase\n",
    "    word = word.lower()\n",
    "    # Output list of synonyms\n",
    "    syns = []\n",
    "    # Loop through the synsets of the word\n",
    "    for syn in wordnet.synsets(word, pos=pos):\n",
    "        # Loop through the lemmas of the word\n",
    "        for l in syn.lemmas():\n",
    "            # Add them to the output list\n",
    "            syns.append(l.name())\n",
    "    # Remove duplicates\n",
    "    syns = list(set(syns))\n",
    "    # If the actual word is in the syns, remove it\n",
    "    if word in syns:\n",
    "        syns.remove(word)\n",
    "    # Remove any multi-word results\n",
    "    syns2 = []\n",
    "    for word in syns:\n",
    "        if \"_\" not in word:\n",
    "            syns2.append(word)\n",
    "    # Return the list of synoyms\n",
    "    return syns2\n",
    "\n",
    "# Test the function\n",
    "print(\"'Car' has the synonyms:\", get_synonyms(\"car\", wordnet.NOUN))\n",
    "print(\"'World' has the synonyms:\", get_synonyms(\"world\", wordnet.NOUN))\n",
    "print(\"'Privacy' has the synonyms:\", get_synonyms(\"privacy\", wordnet.NOUN))"
   ]
  },
  {
   "attachments": {},
   "cell_type": "markdown",
   "metadata": {},
   "source": [
    "The final step is to create a function that calculates the actual CLSF metric by combining the word frequency, part of speech tagging, and synonym finding functions.\n",
    "\n",
    "#### Calculating the CLSF"
   ]
  },
  {
   "cell_type": "code",
   "execution_count": 184,
   "metadata": {},
   "outputs": [
    {
     "name": "stdout",
     "output_type": "stream",
     "text": [
      "'The car was broken.': 0.5084596489112617\n",
      "'The automobile was inoperable.': 4.992762907418026\n"
     ]
    }
   ],
   "source": [
    "def calculate_clsf(text):\n",
    "    # Sum of the CLSF for useful words\n",
    "    clsf_sum = 0\n",
    "    # Count of words with a calculated CLSF\n",
    "    clsf_count = 0\n",
    "    # Get the important words from text and their part of speech\n",
    "    tagged = tag_sentence(text)\n",
    "    # For each important word\n",
    "    for word_tuple in tagged:\n",
    "        # Identify the word's frequency\n",
    "        original_freq = get_word_freq(word_tuple[0])\n",
    "        # If not, exclude it from the data\n",
    "        if original_freq == 0:\n",
    "            continue\n",
    "        # Otherwise, get its synonyms\n",
    "        syns = get_synonyms(word_tuple[0], word_tuple[1])\n",
    "        # Set up some variables for the synonym average\n",
    "        syn_sum = 0\n",
    "        syn_count = 0\n",
    "        # Identify the frequency for each of the synonyms\n",
    "        for syn in syns:\n",
    "            syn_freq = get_word_freq(syn)\n",
    "            if syn_freq == 0:\n",
    "                continue\n",
    "            # Add the frequency ratio\n",
    "            syn_sum += (syn_freq / original_freq)\n",
    "            syn_count += 1\n",
    "        # Exclude if no synonyms\n",
    "        if syn_count < 1:\n",
    "            continue\n",
    "        # Otherwise, add it to the average\n",
    "        clsf_sum += (syn_sum / syn_count)\n",
    "        clsf_count += 1\n",
    "    # Ensure CLSF for at least one word\n",
    "    if clsf_count < 1:\n",
    "        return None\n",
    "    else:\n",
    "        # Return the average CLSF for the text\n",
    "        return (clsf_sum / clsf_count)\n",
    "\n",
    "# Testing the CLSF calculation function with two similar sentences.\n",
    "print(\"'The car was broken.':\", calculate_clsf(\"The car was broken.\"))\n",
    "print(\"'The automobile was inoperable.':\", calculate_clsf(\"The automobile was inoperable.\"))"
   ]
  },
  {
   "attachments": {},
   "cell_type": "markdown",
   "metadata": {},
   "source": [
    "\"The car was broken\" has a lower CLSF than \"The automobile was inoperable,\" which suggests that the former is easier to understand than the latter. This function can now be used to calculate the CLSF for every privacy policy in the dataset."
   ]
  },
  {
   "cell_type": "code",
   "execution_count": 185,
   "metadata": {},
   "outputs": [
    {
     "data": {
      "text/html": [
       "<div>\n",
       "<style scoped>\n",
       "    .dataframe tbody tr th:only-of-type {\n",
       "        vertical-align: middle;\n",
       "    }\n",
       "\n",
       "    .dataframe tbody tr th {\n",
       "        vertical-align: top;\n",
       "    }\n",
       "\n",
       "    .dataframe thead th {\n",
       "        text-align: right;\n",
       "    }\n",
       "</style>\n",
       "<table border=\"1\" class=\"dataframe\">\n",
       "  <thead>\n",
       "    <tr style=\"text-align: right;\">\n",
       "      <th></th>\n",
       "      <th>Website</th>\n",
       "      <th>Policy Content</th>\n",
       "      <th>Flesch Reading Ease</th>\n",
       "      <th>Time to Read</th>\n",
       "      <th>CLSF</th>\n",
       "    </tr>\n",
       "  </thead>\n",
       "  <tbody>\n",
       "    <tr>\n",
       "      <th>82</th>\n",
       "      <td>barnesandnoble.com</td>\n",
       "      <td>Privacy Policy Effective Date: April 1, 2015 ...</td>\n",
       "      <td>37.314168</td>\n",
       "      <td>37.170</td>\n",
       "      <td>1.875131</td>\n",
       "    </tr>\n",
       "    <tr>\n",
       "      <th>0</th>\n",
       "      <td>latinpost.com</td>\n",
       "      <td>Privacy Policy Last Modified: March 25, 2013 T...</td>\n",
       "      <td>35.964811</td>\n",
       "      <td>34.465</td>\n",
       "      <td>1.990326</td>\n",
       "    </tr>\n",
       "    <tr>\n",
       "      <th>47</th>\n",
       "      <td>honda.com</td>\n",
       "      <td>STATEMENT OF PRIVACY ( 12/23/2014, UNITED STAT...</td>\n",
       "      <td>46.232042</td>\n",
       "      <td>29.565</td>\n",
       "      <td>1.399596</td>\n",
       "    </tr>\n",
       "    <tr>\n",
       "      <th>73</th>\n",
       "      <td>kaleidahealth.org</td>\n",
       "      <td>NOTICE OF PRIVACY PRACTICES THIS NOTICE DESCR...</td>\n",
       "      <td>44.753620</td>\n",
       "      <td>27.515</td>\n",
       "      <td>1.706982</td>\n",
       "    </tr>\n",
       "    <tr>\n",
       "      <th>59</th>\n",
       "      <td>rockstargames.com</td>\n",
       "      <td>Last updated on October 1, 2013 Rockstar Games...</td>\n",
       "      <td>37.532000</td>\n",
       "      <td>27.335</td>\n",
       "      <td>1.600875</td>\n",
       "    </tr>\n",
       "  </tbody>\n",
       "</table>\n",
       "</div>"
      ],
      "text/plain": [
       "               Website                                     Policy Content  \\\n",
       "82  barnesandnoble.com   Privacy Policy Effective Date: April 1, 2015 ...   \n",
       "0        latinpost.com  Privacy Policy Last Modified: March 25, 2013 T...   \n",
       "47           honda.com  STATEMENT OF PRIVACY ( 12/23/2014, UNITED STAT...   \n",
       "73   kaleidahealth.org   NOTICE OF PRIVACY PRACTICES THIS NOTICE DESCR...   \n",
       "59   rockstargames.com  Last updated on October 1, 2013 Rockstar Games...   \n",
       "\n",
       "    Flesch Reading Ease  Time to Read      CLSF  \n",
       "82            37.314168        37.170  1.875131  \n",
       "0             35.964811        34.465  1.990326  \n",
       "47            46.232042        29.565  1.399596  \n",
       "73            44.753620        27.515  1.706982  \n",
       "59            37.532000        27.335  1.600875  "
      ]
     },
     "execution_count": 185,
     "metadata": {},
     "output_type": "execute_result"
    }
   ],
   "source": [
    "# Check if the processing has already been completed\n",
    "try:\n",
    "    worst_ttr = pd.read_csv(\"clsf.csv\", index_col=0)\n",
    "except:\n",
    "    # Otherwise, calculate it\n",
    "    # worst_ttr is used so that the most difficult to process policies are completed first\n",
    "    for index, policy in worst_ttr.iterrows():\n",
    "        pol_clsf = calculate_clsf(policy[\"Policy Content\"])\n",
    "        worst_ttr.at[index, \"CLSF\"] = pol_clsf\n",
    "\n",
    "# Replace the overall policy data with the newly calculated CLSF data in worst_ttr\n",
    "policies = worst_ttr\n",
    "policies.head()"
   ]
  },
  {
   "attachments": {},
   "cell_type": "markdown",
   "metadata": {},
   "source": [
    "Because CLSF does not have defined values and is a relative metric, the mean, median, and standard deviation must be calculated to understand how any individual policy compares to the rest of the dataset."
   ]
  },
  {
   "cell_type": "code",
   "execution_count": 186,
   "metadata": {},
   "outputs": [
    {
     "name": "stdout",
     "output_type": "stream",
     "text": [
      "Mean: 1.8286355004841477\n",
      "Median: 1.7428552573725222\n",
      "Standard Deviation: 0.4161430964750542\n"
     ]
    }
   ],
   "source": [
    "mean = policies[\"CLSF\"].mean()\n",
    "median = policies[\"CLSF\"].median()\n",
    "std_dev = policies[\"CLSF\"].std()\n",
    "\n",
    "print(\"Mean:\", mean)\n",
    "print(\"Median:\", median)\n",
    "print(\"Standard Deviation:\", std_dev)"
   ]
  },
  {
   "attachments": {},
   "cell_type": "markdown",
   "metadata": {},
   "source": [
    "Once again, a histogram is displayed below in order to elucidate the distribution."
   ]
  },
  {
   "cell_type": "code",
   "execution_count": 187,
   "metadata": {},
   "outputs": [
    {
     "data": {
      "text/plain": [
       "array([[<matplotlib.axes._subplots.AxesSubplot object at 0x1589b25b0>]],\n",
       "      dtype=object)"
      ]
     },
     "execution_count": 187,
     "metadata": {},
     "output_type": "execute_result"
    },
    {
     "data": {
      "image/png": "[encoded data removed]",
      "text/plain": [
       "<Figure size 640x480 with 1 Axes>"
      ]
     },
     "metadata": {},
     "output_type": "display_data"
    }
   ],
   "source": [
    "policies.hist(\"CLSF\", bins=30)"
   ]
  },
  {
   "attachments": {},
   "cell_type": "markdown",
   "metadata": {},
   "source": [
    "Most policies hover around the 1.5-1.75 range for CLSF, but a few exceptions fall above 2.5. The top 3 and bottom 3 policies based on CLSF are displayed below."
   ]
  },
  {
   "cell_type": "code",
   "execution_count": 188,
   "metadata": {},
   "outputs": [
    {
     "data": {
      "text/html": [
       "<div>\n",
       "<style scoped>\n",
       "    .dataframe tbody tr th:only-of-type {\n",
       "        vertical-align: middle;\n",
       "    }\n",
       "\n",
       "    .dataframe tbody tr th {\n",
       "        vertical-align: top;\n",
       "    }\n",
       "\n",
       "    .dataframe thead th {\n",
       "        text-align: right;\n",
       "    }\n",
       "</style>\n",
       "<table border=\"1\" class=\"dataframe\">\n",
       "  <thead>\n",
       "    <tr style=\"text-align: right;\">\n",
       "      <th></th>\n",
       "      <th>Website</th>\n",
       "      <th>Policy Content</th>\n",
       "      <th>Flesch Reading Ease</th>\n",
       "      <th>Time to Read</th>\n",
       "      <th>CLSF</th>\n",
       "    </tr>\n",
       "  </thead>\n",
       "  <tbody>\n",
       "    <tr>\n",
       "      <th>6</th>\n",
       "      <td>uh.edu</td>\n",
       "      <td>University of Houston Privacy Policy The Divis...</td>\n",
       "      <td>35.937846</td>\n",
       "      <td>1.295</td>\n",
       "      <td>1.047498</td>\n",
       "    </tr>\n",
       "    <tr>\n",
       "      <th>21</th>\n",
       "      <td>msn.com</td>\n",
       "      <td>Last Updated: March 2015 Bing and MSN Privacy ...</td>\n",
       "      <td>44.961170</td>\n",
       "      <td>9.020</td>\n",
       "      <td>1.124549</td>\n",
       "    </tr>\n",
       "    <tr>\n",
       "      <th>103</th>\n",
       "      <td>restaurantnews.com</td>\n",
       "      <td>Privacy Your Privacy Your privacy is important...</td>\n",
       "      <td>48.543140</td>\n",
       "      <td>1.620</td>\n",
       "      <td>1.137192</td>\n",
       "    </tr>\n",
       "  </tbody>\n",
       "</table>\n",
       "</div>"
      ],
      "text/plain": [
       "                Website                                     Policy Content  \\\n",
       "6                uh.edu  University of Houston Privacy Policy The Divis...   \n",
       "21              msn.com  Last Updated: March 2015 Bing and MSN Privacy ...   \n",
       "103  restaurantnews.com  Privacy Your Privacy Your privacy is important...   \n",
       "\n",
       "     Flesch Reading Ease  Time to Read      CLSF  \n",
       "6              35.937846         1.295  1.047498  \n",
       "21             44.961170         9.020  1.124549  \n",
       "103            48.543140         1.620  1.137192  "
      ]
     },
     "execution_count": 188,
     "metadata": {},
     "output_type": "execute_result"
    }
   ],
   "source": [
    "# Best CLSF\n",
    "best_clsf = policies.sort_values(\"CLSF\")\n",
    "best_clsf.head(3)"
   ]
  },
  {
   "attachments": {},
   "cell_type": "markdown",
   "metadata": {},
   "source": [
    "By this metric, the easiest to read privacy policies are from uh.edu, msn.com, and restarauntnews.com."
   ]
  },
  {
   "cell_type": "code",
   "execution_count": 189,
   "metadata": {},
   "outputs": [
    {
     "data": {
      "text/html": [
       "<div>\n",
       "<style scoped>\n",
       "    .dataframe tbody tr th:only-of-type {\n",
       "        vertical-align: middle;\n",
       "    }\n",
       "\n",
       "    .dataframe tbody tr th {\n",
       "        vertical-align: top;\n",
       "    }\n",
       "\n",
       "    .dataframe thead th {\n",
       "        text-align: right;\n",
       "    }\n",
       "</style>\n",
       "<table border=\"1\" class=\"dataframe\">\n",
       "  <thead>\n",
       "    <tr style=\"text-align: right;\">\n",
       "      <th></th>\n",
       "      <th>Website</th>\n",
       "      <th>Policy Content</th>\n",
       "      <th>Flesch Reading Ease</th>\n",
       "      <th>Time to Read</th>\n",
       "      <th>CLSF</th>\n",
       "    </tr>\n",
       "  </thead>\n",
       "  <tbody>\n",
       "    <tr>\n",
       "      <th>41</th>\n",
       "      <td>naturalnews.com</td>\n",
       "      <td>Privacy Policy NaturalNews.com never rents or ...</td>\n",
       "      <td>55.122353</td>\n",
       "      <td>0.34</td>\n",
       "      <td>3.610462</td>\n",
       "    </tr>\n",
       "    <tr>\n",
       "      <th>15</th>\n",
       "      <td>zacks.com</td>\n",
       "      <td>Zacks Investment Research Privacy Policy Sinc...</td>\n",
       "      <td>49.184776</td>\n",
       "      <td>4.91</td>\n",
       "      <td>3.275134</td>\n",
       "    </tr>\n",
       "    <tr>\n",
       "      <th>85</th>\n",
       "      <td>newsbusters.org</td>\n",
       "      <td>Privacy Policy Effective Date: January 1, 201...</td>\n",
       "      <td>42.519414</td>\n",
       "      <td>13.06</td>\n",
       "      <td>3.235265</td>\n",
       "    </tr>\n",
       "  </tbody>\n",
       "</table>\n",
       "</div>"
      ],
      "text/plain": [
       "            Website                                     Policy Content  \\\n",
       "41  naturalnews.com  Privacy Policy NaturalNews.com never rents or ...   \n",
       "15        zacks.com   Zacks Investment Research Privacy Policy Sinc...   \n",
       "85  newsbusters.org   Privacy Policy Effective Date: January 1, 201...   \n",
       "\n",
       "    Flesch Reading Ease  Time to Read      CLSF  \n",
       "41            55.122353          0.34  3.610462  \n",
       "15            49.184776          4.91  3.275134  \n",
       "85            42.519414         13.06  3.235265  "
      ]
     },
     "execution_count": 189,
     "metadata": {},
     "output_type": "execute_result"
    }
   ],
   "source": [
    "worst_clsf = policies.sort_values(\"CLSF\", ascending=False)\n",
    "worst_clsf.head(3)"
   ]
  },
  {
   "attachments": {},
   "cell_type": "markdown",
   "metadata": {},
   "source": [
    "The hardest to read privacy policies are from naturalnews.com, zacks.com, and newsbusters.com. All three websites have privacy policies with a CLSF greater than 3.0."
   ]
  },
  {
   "attachments": {},
   "cell_type": "markdown",
   "metadata": {},
   "source": [
    "### Correlation between Metrics\n",
    "\n",
    "Although Flesch Reading Ease, Time to Read, and CLSF are distinct metrics, they may have some overlap for especially simple or complex privacy policies. An easy way to visualize the correlation between these metrics is with the `dataframe.corr(\"pearson\")` function in Python's `pandas` library."
   ]
  },
  {
   "cell_type": "code",
   "execution_count": 190,
   "metadata": {},
   "outputs": [
    {
     "data": {
      "text/html": [
       "<div>\n",
       "<style scoped>\n",
       "    .dataframe tbody tr th:only-of-type {\n",
       "        vertical-align: middle;\n",
       "    }\n",
       "\n",
       "    .dataframe tbody tr th {\n",
       "        vertical-align: top;\n",
       "    }\n",
       "\n",
       "    .dataframe thead th {\n",
       "        text-align: right;\n",
       "    }\n",
       "</style>\n",
       "<table border=\"1\" class=\"dataframe\">\n",
       "  <thead>\n",
       "    <tr style=\"text-align: right;\">\n",
       "      <th></th>\n",
       "      <th>Flesch Reading Ease</th>\n",
       "      <th>Time to Read</th>\n",
       "      <th>CLSF</th>\n",
       "    </tr>\n",
       "  </thead>\n",
       "  <tbody>\n",
       "    <tr>\n",
       "      <th>Flesch Reading Ease</th>\n",
       "      <td>1.000000</td>\n",
       "      <td>-0.111237</td>\n",
       "      <td>0.107711</td>\n",
       "    </tr>\n",
       "    <tr>\n",
       "      <th>Time to Read</th>\n",
       "      <td>-0.111237</td>\n",
       "      <td>1.000000</td>\n",
       "      <td>-0.134080</td>\n",
       "    </tr>\n",
       "    <tr>\n",
       "      <th>CLSF</th>\n",
       "      <td>0.107711</td>\n",
       "      <td>-0.134080</td>\n",
       "      <td>1.000000</td>\n",
       "    </tr>\n",
       "  </tbody>\n",
       "</table>\n",
       "</div>"
      ],
      "text/plain": [
       "                     Flesch Reading Ease  Time to Read      CLSF\n",
       "Flesch Reading Ease             1.000000     -0.111237  0.107711\n",
       "Time to Read                   -0.111237      1.000000 -0.134080\n",
       "CLSF                            0.107711     -0.134080  1.000000"
      ]
     },
     "execution_count": 190,
     "metadata": {},
     "output_type": "execute_result"
    }
   ],
   "source": [
    "policies.corr(\"pearson\")"
   ]
  },
  {
   "attachments": {},
   "cell_type": "markdown",
   "metadata": {},
   "source": [
    "Based on this information, it appears that a higher Flesch Reading Ease is associated with a higher CLSF and a shorter Time to Read. Although this may appear counterintuative at first, Flesch Reading Ease is inversely proportional to syllable count, and complex multi-syllabic words may not have any synonyms to calculate the CLSF with. As for Time to Read, there may exist a trade-off between word complexity and total word count, as longer words can theoretically carry more information while requiring the same amount of time to read.\n",
    "\n",
    "A higher Time to Read was associated with a lower CLSF, suggesting that, even though a policy may be longer, the words it contains are easier for a layman to understand.\n",
    "\n",
    "Perhaps the best way to determine the true complexity of a privacy policy is to weight Time to Read by the CLSF. That way, both text length and difficulty are accounted for.  "
   ]
  },
  {
   "cell_type": "code",
   "execution_count": 191,
   "metadata": {},
   "outputs": [
    {
     "data": {
      "text/html": [
       "<div>\n",
       "<style scoped>\n",
       "    .dataframe tbody tr th:only-of-type {\n",
       "        vertical-align: middle;\n",
       "    }\n",
       "\n",
       "    .dataframe tbody tr th {\n",
       "        vertical-align: top;\n",
       "    }\n",
       "\n",
       "    .dataframe thead th {\n",
       "        text-align: right;\n",
       "    }\n",
       "</style>\n",
       "<table border=\"1\" class=\"dataframe\">\n",
       "  <thead>\n",
       "    <tr style=\"text-align: right;\">\n",
       "      <th></th>\n",
       "      <th>Website</th>\n",
       "      <th>Policy Content</th>\n",
       "      <th>Flesch Reading Ease</th>\n",
       "      <th>Time to Read</th>\n",
       "      <th>CLSF</th>\n",
       "      <th>CLSF-TTR Weighted</th>\n",
       "    </tr>\n",
       "  </thead>\n",
       "  <tbody>\n",
       "    <tr>\n",
       "      <th>81</th>\n",
       "      <td>tangeroutlet.com</td>\n",
       "      <td>Privacy Policy TangerOutlets is committed to k...</td>\n",
       "      <td>33.260616</td>\n",
       "      <td>0.405</td>\n",
       "      <td>1.930596</td>\n",
       "      <td>0.781891</td>\n",
       "    </tr>\n",
       "    <tr>\n",
       "      <th>44</th>\n",
       "      <td>solarviews.com</td>\n",
       "      <td>Privacy Statement We allow third-party compani...</td>\n",
       "      <td>44.169000</td>\n",
       "      <td>0.410</td>\n",
       "      <td>2.204648</td>\n",
       "      <td>0.903906</td>\n",
       "    </tr>\n",
       "    <tr>\n",
       "      <th>41</th>\n",
       "      <td>naturalnews.com</td>\n",
       "      <td>Privacy Policy NaturalNews.com never rents or ...</td>\n",
       "      <td>55.122353</td>\n",
       "      <td>0.340</td>\n",
       "      <td>3.610462</td>\n",
       "      <td>1.227557</td>\n",
       "    </tr>\n",
       "  </tbody>\n",
       "</table>\n",
       "</div>"
      ],
      "text/plain": [
       "             Website                                     Policy Content  \\\n",
       "81  tangeroutlet.com  Privacy Policy TangerOutlets is committed to k...   \n",
       "44    solarviews.com  Privacy Statement We allow third-party compani...   \n",
       "41   naturalnews.com  Privacy Policy NaturalNews.com never rents or ...   \n",
       "\n",
       "    Flesch Reading Ease  Time to Read      CLSF  CLSF-TTR Weighted  \n",
       "81            33.260616         0.405  1.930596           0.781891  \n",
       "44            44.169000         0.410  2.204648           0.903906  \n",
       "41            55.122353         0.340  3.610462           1.227557  "
      ]
     },
     "execution_count": 191,
     "metadata": {},
     "output_type": "execute_result"
    }
   ],
   "source": [
    "policies[\"CLSF-TTR Weighted\"] = policies[\"CLSF\"] * policies[\"Time to Read\"]\n",
    "\n",
    "best_policies = policies.sort_values(\"CLSF-TTR Weighted\")\n",
    "best_policies.head(3)"
   ]
  },
  {
   "attachments": {},
   "cell_type": "markdown",
   "metadata": {},
   "source": [
    "This final metric suggests that the websites with the three best privacy policies for comprehension are tangeroutlets.com, solarviews.com, and naturalnews.com."
   ]
  },
  {
   "cell_type": "code",
   "execution_count": 192,
   "metadata": {},
   "outputs": [
    {
     "data": {
      "text/html": [
       "<div>\n",
       "<style scoped>\n",
       "    .dataframe tbody tr th:only-of-type {\n",
       "        vertical-align: middle;\n",
       "    }\n",
       "\n",
       "    .dataframe tbody tr th {\n",
       "        vertical-align: top;\n",
       "    }\n",
       "\n",
       "    .dataframe thead th {\n",
       "        text-align: right;\n",
       "    }\n",
       "</style>\n",
       "<table border=\"1\" class=\"dataframe\">\n",
       "  <thead>\n",
       "    <tr style=\"text-align: right;\">\n",
       "      <th></th>\n",
       "      <th>Website</th>\n",
       "      <th>Policy Content</th>\n",
       "      <th>Flesch Reading Ease</th>\n",
       "      <th>Time to Read</th>\n",
       "      <th>CLSF</th>\n",
       "      <th>CLSF-TTR Weighted</th>\n",
       "    </tr>\n",
       "  </thead>\n",
       "  <tbody>\n",
       "    <tr>\n",
       "      <th>82</th>\n",
       "      <td>barnesandnoble.com</td>\n",
       "      <td>Privacy Policy Effective Date: April 1, 2015 ...</td>\n",
       "      <td>37.314168</td>\n",
       "      <td>37.170</td>\n",
       "      <td>1.875131</td>\n",
       "      <td>69.698634</td>\n",
       "    </tr>\n",
       "    <tr>\n",
       "      <th>0</th>\n",
       "      <td>latinpost.com</td>\n",
       "      <td>Privacy Policy Last Modified: March 25, 2013 T...</td>\n",
       "      <td>35.964811</td>\n",
       "      <td>34.465</td>\n",
       "      <td>1.990326</td>\n",
       "      <td>68.596593</td>\n",
       "    </tr>\n",
       "    <tr>\n",
       "      <th>102</th>\n",
       "      <td>lynda.com</td>\n",
       "      <td>lynda.com Privacy Policy Effective Date: March...</td>\n",
       "      <td>43.352650</td>\n",
       "      <td>22.140</td>\n",
       "      <td>2.530033</td>\n",
       "      <td>56.014940</td>\n",
       "    </tr>\n",
       "  </tbody>\n",
       "</table>\n",
       "</div>"
      ],
      "text/plain": [
       "                Website                                     Policy Content  \\\n",
       "82   barnesandnoble.com   Privacy Policy Effective Date: April 1, 2015 ...   \n",
       "0         latinpost.com  Privacy Policy Last Modified: March 25, 2013 T...   \n",
       "102           lynda.com  lynda.com Privacy Policy Effective Date: March...   \n",
       "\n",
       "     Flesch Reading Ease  Time to Read      CLSF  CLSF-TTR Weighted  \n",
       "82             37.314168        37.170  1.875131          69.698634  \n",
       "0              35.964811        34.465  1.990326          68.596593  \n",
       "102            43.352650        22.140  2.530033          56.014940  "
      ]
     },
     "execution_count": 192,
     "metadata": {},
     "output_type": "execute_result"
    }
   ],
   "source": [
    "worst_policies = policies.sort_values(\"CLSF-TTR Weighted\", ascending=False)\n",
    "worst_policies.head(3)"
   ]
  },
  {
   "attachments": {},
   "cell_type": "markdown",
   "metadata": {},
   "source": [
    "The three worst privacy policies for comprehension are barnesandnoble.com, latinpost.com, and lynda.com."
   ]
  },
  {
   "attachments": {},
   "cell_type": "markdown",
   "metadata": {},
   "source": [
    "### Conclusion"
   ]
  }
 ],
 "metadata": {
  "kernelspec": {
   "display_name": "Python 3.9.7 ('base')",
   "language": "python",
   "name": "python3"
  },
  "language_info": {
   "codemirror_mode": {
    "name": "ipython",
    "version": 3
   },
   "file_extension": ".py",
   "mimetype": "text/x-python",
   "name": "python",
   "nbconvert_exporter": "python",
   "pygments_lexer": "ipython3",
   "version": "3.9.7"
  },
  "orig_nbformat": 4,
  "vscode": {
   "interpreter": {
    "hash": "02a55fddf5a49056bf2369596edbf614c125531bfd4002d69343a4f6494ee2ee"
   }
  }
 },
 "nbformat": 4,
 "nbformat_minor": 2
}
